{
 "cells": [
  {
   "cell_type": "code",
   "execution_count": 1,
   "metadata": {},
   "outputs": [
    {
     "name": "stdout",
     "output_type": "stream",
     "text": [
      "Note: you may need to restart the kernel to use updated packages.\n"
     ]
    }
   ],
   "source": [
    "%pip install openai -q"
   ]
  },
  {
   "attachments": {},
   "cell_type": "markdown",
   "metadata": {},
   "source": [
    "Create a vivid, possibly funny or bizarre mnemonic in the following way:\n",
    "\n",
    "Keywords: lion, cross, eye\n",
    "Word meaning to recall: fix\n",
    "Mnemonic: You accidentally stab your <radical>cross</radical> into the <radical>eye</radical> of a <radical>lion</radical>. This is a terrible thing you did and you need to <kanji>fix</kanji> it right now. I'll be <kanji>direct</kanji> with you, this is something you have to fix on your own. How will you fix this mistake though? Maybe if you build a time machine you can go back and stop yourself from throwing your cross around so carelessly. Whatever you do, focus on how important it is to fix the mistake, more than anything.\n",
    "\n",
    "Keywords: helicopter, woman\n",
    "Word meaning to recall: need\n",
    "Mnemonic:"
   ]
  },
  {
   "cell_type": "code",
   "execution_count": 2,
   "metadata": {},
   "outputs": [],
   "source": [
    "import openai\n"
   ]
  },
  {
   "cell_type": "code",
   "execution_count": 4,
   "metadata": {},
   "outputs": [],
   "source": [
    "import pandas as pd\n",
    "\n",
    "df = pd.read_json('kanjis.jsonl', lines=True)"
   ]
  },
  {
   "cell_type": "code",
   "execution_count": 5,
   "metadata": {},
   "outputs": [
    {
     "data": {
      "text/html": [
       "<div>\n",
       "<style scoped>\n",
       "    .dataframe tbody tr th:only-of-type {\n",
       "        vertical-align: middle;\n",
       "    }\n",
       "\n",
       "    .dataframe tbody tr th {\n",
       "        vertical-align: top;\n",
       "    }\n",
       "\n",
       "    .dataframe thead th {\n",
       "        text-align: right;\n",
       "    }\n",
       "</style>\n",
       "<table border=\"1\" class=\"dataframe\">\n",
       "  <thead>\n",
       "    <tr style=\"text-align: right;\">\n",
       "      <th></th>\n",
       "      <th>id</th>\n",
       "      <th>object</th>\n",
       "      <th>source</th>\n",
       "      <th>characters</th>\n",
       "      <th>slug</th>\n",
       "      <th>reading_mnemonic</th>\n",
       "      <th>amalgamation_subjects</th>\n",
       "      <th>meanings</th>\n",
       "      <th>readings</th>\n",
       "      <th>component_subjects</th>\n",
       "      <th>visually_similar_subjects</th>\n",
       "    </tr>\n",
       "  </thead>\n",
       "  <tbody>\n",
       "    <tr>\n",
       "      <th>0</th>\n",
       "      <td>2284</td>\n",
       "      <td>kanji</td>\n",
       "      <td>wanikani</td>\n",
       "      <td>脊</td>\n",
       "      <td>脊</td>\n",
       "      <td>Getting a taller &lt;kanji&gt;stature&lt;/kanji&gt; will a...</td>\n",
       "      <td>[{'id': 8252, 'object': 'vocabulary', 'slug': ...</td>\n",
       "      <td>[{'meaning': 'Stature', 'primary': True}, {'me...</td>\n",
       "      <td>[{'reading': 'せき', 'primary': True, 'type': 'o...</td>\n",
       "      <td>[{'id': 7, 'object': 'radical', 'slug': 'two',...</td>\n",
       "      <td>[]</td>\n",
       "    </tr>\n",
       "    <tr>\n",
       "      <th>1</th>\n",
       "      <td>1064</td>\n",
       "      <td>kanji</td>\n",
       "      <td>wanikani</td>\n",
       "      <td>財</td>\n",
       "      <td>財</td>\n",
       "      <td>The &lt;kanji&gt;wealth&lt;/kanji&gt; comes pouring in, on...</td>\n",
       "      <td>[{'id': 4192, 'object': 'vocabulary', 'slug': ...</td>\n",
       "      <td>[{'meaning': 'Wealth', 'primary': True}, {'mea...</td>\n",
       "      <td>[{'reading': 'さい', 'primary': True, 'type': 'o...</td>\n",
       "      <td>[{'id': 94, 'object': 'radical', 'slug': 'shel...</td>\n",
       "      <td>[{'id': 909, 'object': 'kanji', 'slug': '材', '...</td>\n",
       "    </tr>\n",
       "    <tr>\n",
       "      <th>2</th>\n",
       "      <td>2446</td>\n",
       "      <td>kanji</td>\n",
       "      <td>wanikani</td>\n",
       "      <td>謹</td>\n",
       "      <td>謹</td>\n",
       "      <td>You're being &lt;kanji&gt;humble&lt;/kanji&gt; like this b...</td>\n",
       "      <td>[{'id': 19148, 'object': 'vocabulary', 'slug':...</td>\n",
       "      <td>[{'meaning': 'Humble', 'primary': True}, {'mea...</td>\n",
       "      <td>[{'reading': 'きん', 'primary': True, 'type': 'o...</td>\n",
       "      <td>[{'id': 117, 'object': 'radical', 'slug': 'say...</td>\n",
       "      <td>[]</td>\n",
       "    </tr>\n",
       "    <tr>\n",
       "      <th>3</th>\n",
       "      <td>1750</td>\n",
       "      <td>kanji</td>\n",
       "      <td>wanikani</td>\n",
       "      <td>剤</td>\n",
       "      <td>剤</td>\n",
       "      <td>\"I need a &lt;kanji&gt;dose&lt;/kanji&gt; of the antidote!...</td>\n",
       "      <td>[{'id': 6381, 'object': 'vocabulary', 'slug': ...</td>\n",
       "      <td>[{'meaning': 'Dose', 'primary': True}]</td>\n",
       "      <td>[{'reading': 'ざい', 'primary': True, 'type': 'o...</td>\n",
       "      <td>[{'id': 277, 'object': 'radical', 'slug': 'sim...</td>\n",
       "      <td>[]</td>\n",
       "    </tr>\n",
       "    <tr>\n",
       "      <th>4</th>\n",
       "      <td>1402</td>\n",
       "      <td>kanji</td>\n",
       "      <td>wanikani</td>\n",
       "      <td>緊</td>\n",
       "      <td>緊</td>\n",
       "      <td>You ask the servant why they're so &lt;kanji&gt;tens...</td>\n",
       "      <td>[{'id': 5231, 'object': 'vocabulary', 'slug': ...</td>\n",
       "      <td>[{'meaning': 'Tense', 'primary': True}]</td>\n",
       "      <td>[{'reading': 'きん', 'primary': True, 'type': 'o...</td>\n",
       "      <td>[{'id': 323, 'object': 'radical', 'slug': 'ser...</td>\n",
       "      <td>[{'id': 2051, 'object': 'kanji', 'slug': '紫', ...</td>\n",
       "    </tr>\n",
       "  </tbody>\n",
       "</table>\n",
       "</div>"
      ],
      "text/plain": [
       "     id object    source characters slug  \\\n",
       "0  2284  kanji  wanikani          脊    脊   \n",
       "1  1064  kanji  wanikani          財    財   \n",
       "2  2446  kanji  wanikani          謹    謹   \n",
       "3  1750  kanji  wanikani          剤    剤   \n",
       "4  1402  kanji  wanikani          緊    緊   \n",
       "\n",
       "                                    reading_mnemonic  \\\n",
       "0  Getting a taller <kanji>stature</kanji> will a...   \n",
       "1  The <kanji>wealth</kanji> comes pouring in, on...   \n",
       "2  You're being <kanji>humble</kanji> like this b...   \n",
       "3  \"I need a <kanji>dose</kanji> of the antidote!...   \n",
       "4  You ask the servant why they're so <kanji>tens...   \n",
       "\n",
       "                               amalgamation_subjects  \\\n",
       "0  [{'id': 8252, 'object': 'vocabulary', 'slug': ...   \n",
       "1  [{'id': 4192, 'object': 'vocabulary', 'slug': ...   \n",
       "2  [{'id': 19148, 'object': 'vocabulary', 'slug':...   \n",
       "3  [{'id': 6381, 'object': 'vocabulary', 'slug': ...   \n",
       "4  [{'id': 5231, 'object': 'vocabulary', 'slug': ...   \n",
       "\n",
       "                                            meanings  \\\n",
       "0  [{'meaning': 'Stature', 'primary': True}, {'me...   \n",
       "1  [{'meaning': 'Wealth', 'primary': True}, {'mea...   \n",
       "2  [{'meaning': 'Humble', 'primary': True}, {'mea...   \n",
       "3             [{'meaning': 'Dose', 'primary': True}]   \n",
       "4            [{'meaning': 'Tense', 'primary': True}]   \n",
       "\n",
       "                                            readings  \\\n",
       "0  [{'reading': 'せき', 'primary': True, 'type': 'o...   \n",
       "1  [{'reading': 'さい', 'primary': True, 'type': 'o...   \n",
       "2  [{'reading': 'きん', 'primary': True, 'type': 'o...   \n",
       "3  [{'reading': 'ざい', 'primary': True, 'type': 'o...   \n",
       "4  [{'reading': 'きん', 'primary': True, 'type': 'o...   \n",
       "\n",
       "                                  component_subjects  \\\n",
       "0  [{'id': 7, 'object': 'radical', 'slug': 'two',...   \n",
       "1  [{'id': 94, 'object': 'radical', 'slug': 'shel...   \n",
       "2  [{'id': 117, 'object': 'radical', 'slug': 'say...   \n",
       "3  [{'id': 277, 'object': 'radical', 'slug': 'sim...   \n",
       "4  [{'id': 323, 'object': 'radical', 'slug': 'ser...   \n",
       "\n",
       "                           visually_similar_subjects  \n",
       "0                                                 []  \n",
       "1  [{'id': 909, 'object': 'kanji', 'slug': '材', '...  \n",
       "2                                                 []  \n",
       "3                                                 []  \n",
       "4  [{'id': 2051, 'object': 'kanji', 'slug': '紫', ...  "
      ]
     },
     "execution_count": 5,
     "metadata": {},
     "output_type": "execute_result"
    }
   ],
   "source": [
    "df.head()"
   ]
  },
  {
   "cell_type": "code",
   "execution_count": 6,
   "metadata": {},
   "outputs": [
    {
     "data": {
      "text/plain": [
       "[{'id': 7,\n",
       "  'object': 'radical',\n",
       "  'slug': 'two',\n",
       "  'source': 'wanikani',\n",
       "  'characters': '二',\n",
       "  'character_image': '<svg xmlns=\"http://www.w3.org/2000/svg\" viewBox=\"0 0 1000 1000\"><defs><style>.a{fill:none;stroke:#fff;stroke-linecap:square;stroke-miterlimit:2;stroke-width:68px;}</style></defs><title>two</title><line class=\"a\" x1=\"100\" y1=\"860\" x2=\"900\" y2=\"860\"/><line class=\"a\" x1=\"160\" y1=\"220\" x2=\"840\" y2=\"220\"/></svg>',\n",
       "  'readings': [''],\n",
       "  'meanings': ['Two']},\n",
       " {'id': 9,\n",
       "  'object': 'radical',\n",
       "  'slug': 'person',\n",
       "  'source': 'wanikani',\n",
       "  'characters': '人',\n",
       "  'character_image': '<svg xmlns=\"http://www.w3.org/2000/svg\" viewBox=\"0 0 1000 1000\"><defs><style>.a{fill:none;stroke:#fff;stroke-linecap:square;stroke-miterlimit:2;stroke-width:68px;}</style></defs><title>person</title><path class=\"a\" d=\"M500,100c0,320,0,600-440,840\"/><path class=\"a\" d=\"M940,940C500,700,500,420,500,100\"/></svg>',\n",
       "  'readings': [''],\n",
       "  'meanings': ['Person']},\n",
       " {'id': 43,\n",
       "  'object': 'radical',\n",
       "  'slug': 'moon',\n",
       "  'source': 'wanikani',\n",
       "  'characters': '月',\n",
       "  'character_image': '<svg xmlns=\"http://www.w3.org/2000/svg\" xmlns:xlink=\"http://www.w3.org/1999/xlink\" viewBox=\"0 0 1000 1000\"><defs><style>.a,.c{fill:none;}.b{clip-path:url(#a);}.c{stroke:#fff;stroke-linecap:square;stroke-miterlimit:2;stroke-width:68px;}</style><clipPath id=\"a\"><rect class=\"a\" x=\"260\" y=\"100\" width=\"520\" height=\"840\"/></clipPath></defs><title>moon</title><g class=\"b\"><line class=\"c\" x1=\"780\" y1=\"620\" x2=\"260\" y2=\"620\"/><line class=\"c\" x1=\"780\" y1=\"360\" x2=\"260\" y2=\"360\"/></g><path class=\"c\" d=\"M120,940C260,780,260,580,260,460V100H780V820q0,120-120,120H580\"/></svg>',\n",
       "  'readings': [''],\n",
       "  'meanings': ['Moon']}]"
      ]
     },
     "execution_count": 6,
     "metadata": {},
     "output_type": "execute_result"
    }
   ],
   "source": [
    "df.iloc[0, :]['component_subjects']"
   ]
  },
  {
   "cell_type": "code",
   "execution_count": 6,
   "metadata": {},
   "outputs": [],
   "source": [
    "system_msg = \"\"\"\n",
    "Create a vivid, possibly funny or bizarre mnemonic in the following way:\n",
    "\n",
    "Keywords: lion, cross, eye\n",
    "Word meaning to recall: fix\n",
    "Mnemonic: You accidentally stab your <radical>cross</radical> into the <radical>eye</radical> of a <radical>lion</radical>. This is a terrible thing you did and you need to <kanji>fix</kanji> it right now. I'll be <kanji>direct</kanji> with you, this is something you have to fix on your own. How will you fix this mistake though? Maybe if you build a time machine you can go back and stop yourself from throwing your cross around so carelessly. Whatever you do, focus on how important it is to fix the mistake, more than anything.\n",
    "\"\"\"\n",
    "\n",
    "def create_user_message(kanji):\n",
    "    keywords = [r['meanings'][0].lower() for r in kanji['component_subjects']]\n",
    "    kanji_meanings = [r['meaning'].lower() for r in kanji['meanings']]\n",
    "    return f\"\"\"\n",
    "Keywords: {', '.join(keywords)}\n",
    "Word meaning to recall: {', '.join(kanji_meanings)}\n",
    "Mnemonic:\n",
    "\"\"\""
   ]
  },
  {
   "cell_type": "code",
   "execution_count": 7,
   "metadata": {},
   "outputs": [
    {
     "name": "stdout",
     "output_type": "stream",
     "text": [
      "\n",
      "Keywords: two, person, moon\n",
      "Word meaning to recall: stature, height\n",
      "Mnemonic:\n",
      "\n"
     ]
    }
   ],
   "source": [
    "print(create_user_message(df.iloc[0, :]))"
   ]
  },
  {
   "cell_type": "code",
   "execution_count": 25,
   "metadata": {},
   "outputs": [],
   "source": [
    "res = openai.ChatCompletion.create(\n",
    "    model=\"gpt-3.5-turbo\",\n",
    "    messages=[\n",
    "        {\"role\": \"system\", \"content\": system_msg},\n",
    "        {\"role\": \"user\", \"content\": create_user_message(df.iloc[1, :])}\n",
    "    ]\n",
    ")"
   ]
  },
  {
   "cell_type": "code",
   "execution_count": 27,
   "metadata": {},
   "outputs": [
    {
     "data": {
      "application/vnd.google.colaboratory.intrinsic+json": {
       "type": "string"
      },
      "text/plain": [
       "'\\nKeywords: shellfish, genius\\nWord meaning to recall: wealth, riches, fortune\\nMnemonic:\\n'"
      ]
     },
     "execution_count": 27,
     "metadata": {},
     "output_type": "execute_result"
    }
   ],
   "source": [
    "create_user_message(df.iloc[1, :])"
   ]
  },
  {
   "cell_type": "code",
   "execution_count": 40,
   "metadata": {},
   "outputs": [
    {
     "data": {
      "text/plain": [
       "<OpenAIObject chat.completion id=chatcmpl-7DKAClHhUkAUpKtHh0i2KivKwOUgJ at 0x7f94011f2b10> JSON: {\n",
       "  \"choices\": [\n",
       "    {\n",
       "      \"finish_reason\": \"stop\",\n",
       "      \"index\": 0,\n",
       "      \"message\": {\n",
       "        \"content\": \"Imagine you're about to give an important speech, but then you suddenly realize you've accidentally put your <radical>boot</radical> in your mouth. You're so embarrassed and feel so <kanji>humble</kanji> that you don't know what to <kanji>say</kanji>. But you don't want to draw attention to your mistake, so you decide to be <kanji>discreet</kanji>. You take a deep breath, step back from the microphone, and quietly walk offstage with your boot still in your mouth. The audience is confused and bewildered, but you know that sometimes it's better to stay humble and discreet than to draw attention to your mistakes.\",\n",
       "        \"role\": \"assistant\"\n",
       "      }\n",
       "    }\n",
       "  ],\n",
       "  \"created\": 1683410128,\n",
       "  \"id\": \"chatcmpl-7DKAClHhUkAUpKtHh0i2KivKwOUgJ\",\n",
       "  \"model\": \"gpt-3.5-turbo-0301\",\n",
       "  \"object\": \"chat.completion\",\n",
       "  \"usage\": {\n",
       "    \"completion_tokens\": 148,\n",
       "    \"prompt_tokens\": 200,\n",
       "    \"total_tokens\": 348\n",
       "  }\n",
       "}"
      ]
     },
     "execution_count": 40,
     "metadata": {},
     "output_type": "execute_result"
    }
   ],
   "source": [
    "res"
   ]
  },
  {
   "cell_type": "code",
   "execution_count": 18,
   "metadata": {},
   "outputs": [
    {
     "name": "stderr",
     "output_type": "stream",
     "text": [
      " 33%|███▎      | 9/27 [06:27<12:55, 43.09s/it]\n",
      "100%|██████████| 27/27 [04:47<00:00,  9.79s/it]"
     ]
    }
   ],
   "source": [
    "import json\n",
    "from tqdm import tqdm\n",
    "import time\n",
    "\n",
    "bar = tqdm(total=len(df) - 2047)\n",
    "\n",
    "with open(\"mnemonics.jsonl\", \"w\") as f:\n",
    "    for i, kanji in df.iterrows():\n",
    "        if i < 2047:\n",
    "            continue\n",
    "        res = openai.ChatCompletion.create(\n",
    "            model=\"gpt-3.5-turbo\",\n",
    "            messages=[\n",
    "                {\"role\": \"system\", \"content\": system_msg},\n",
    "                {\"role\": \"user\", \"content\": create_user_message(kanji)}\n",
    "            ]\n",
    "        )\n",
    "        mnemonic_data = {\n",
    "            \"kanji_id\": int(kanji['id']),\n",
    "            \"characters\": kanji['characters'],\n",
    "            \"mnemonic\": res.choices[0].message.content\n",
    "        }\n",
    "        f.write(json.dumps(mnemonic_data) + \"\\n\")\n",
    "        time.sleep(2)\n",
    "        bar.update(1)"
   ]
  },
  {
   "cell_type": "code",
   "execution_count": 43,
   "metadata": {},
   "outputs": [
    {
     "name": "stdout",
     "output_type": "stream",
     "text": [
      "{\"kanji_id\": 2284, \"characters\": \"\\u810a\", \"mnemonic\": \"Two persons are trying to measure the <radical>height</radical> of the <radical>moon</radical>. One person stands on the ground, while the other person stands on a ladder placed on top of a truck. They both look up at the moon and realize it's so far away, they can't get an accurate measurement. Suddenly, an alien spaceship hovers over them and abducts them both. The aliens want to know each person's <kanji>stature</kanji> so they can prepare a proper environment for them. But the two persons can't agree on their <kanji>stature</kanji> because they're hanging upside down in the spaceship, so the aliens decide to release them both. From that day on, the two persons realized that comparing <kanji>stature</kanji> is a waste of time, and they should just focus on being confident in their own unique selves.\"}\n"
     ]
    }
   ],
   "source": [
    "!cat mnemonics.jsonl"
   ]
  }
 ],
 "metadata": {
  "kernelspec": {
   "display_name": "Python 3",
   "language": "python",
   "name": "python3"
  },
  "language_info": {
   "codemirror_mode": {
    "name": "ipython",
    "version": 3
   },
   "file_extension": ".py",
   "mimetype": "text/x-python",
   "name": "python",
   "nbconvert_exporter": "python",
   "pygments_lexer": "ipython3",
   "version": "3.10.6"
  },
  "orig_nbformat": 4
 },
 "nbformat": 4,
 "nbformat_minor": 2
}
