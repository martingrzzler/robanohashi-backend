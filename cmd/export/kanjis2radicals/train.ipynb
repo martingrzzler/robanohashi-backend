{
 "cells": [
  {
   "cell_type": "code",
   "execution_count": 1,
   "metadata": {},
   "outputs": [
    {
     "name": "stdout",
     "output_type": "stream",
     "text": [
      "\u001b[2K     \u001b[90m━━━━━━━━━━━━━━━━━━━━━━━━━━━━━━━━━━━━━━\u001b[0m \u001b[32m468.7/468.7 kB\u001b[0m \u001b[31m14.6 MB/s\u001b[0m eta \u001b[36m0:00:00\u001b[0m\n",
      "\u001b[2K     \u001b[90m━━━━━━━━━━━━━━━━━━━━━━━━━━━━━━━━━━━━━━━━\u001b[0m \u001b[32m7.0/7.0 MB\u001b[0m \u001b[31m49.8 MB/s\u001b[0m eta \u001b[36m0:00:00\u001b[0m00:01\u001b[0m00:01\u001b[0m\n",
      "\u001b[2K     \u001b[90m━━━━━━━━━━━━━━━━━━━━━━━━━━━━━━━━━━━━━━━━\u001b[0m \u001b[32m1.0/1.0 MB\u001b[0m \u001b[31m72.6 MB/s\u001b[0m eta \u001b[36m0:00:00\u001b[0m\n",
      "\u001b[2K     \u001b[90m━━━━━━━━━━━━━━━━━━━━━━━━━━━━━━━━━━━━━━\u001b[0m \u001b[32m200.1/200.1 kB\u001b[0m \u001b[31m20.8 MB/s\u001b[0m eta \u001b[36m0:00:00\u001b[0m\n",
      "\u001b[2K     \u001b[90m━━━━━━━━━━━━━━━━━━━━━━━━━━━━━━━━━━━━━━\u001b[0m \u001b[32m132.9/132.9 kB\u001b[0m \u001b[31m14.6 MB/s\u001b[0m eta \u001b[36m0:00:00\u001b[0m\n",
      "\u001b[2K     \u001b[90m━━━━━━━━━━━━━━━━━━━━━━━━━━━━━━━━━━━━━━\u001b[0m \u001b[32m212.2/212.2 kB\u001b[0m \u001b[31m26.7 MB/s\u001b[0m eta \u001b[36m0:00:00\u001b[0m\n",
      "\u001b[2K     \u001b[90m━━━━━━━━━━━━━━━━━━━━━━━━━━━━━━━━━━━━━━\u001b[0m \u001b[32m110.5/110.5 kB\u001b[0m \u001b[31m15.2 MB/s\u001b[0m eta \u001b[36m0:00:00\u001b[0m\n",
      "\u001b[2K     \u001b[90m━━━━━━━━━━━━━━━━━━━━━━━━━━━━━━━━━━━━━━━━\u001b[0m \u001b[32m7.8/7.8 MB\u001b[0m \u001b[31m85.3 MB/s\u001b[0m eta \u001b[36m0:00:00\u001b[0m:00:01\u001b[0m00:01\u001b[0m\n",
      "\u001b[2K     \u001b[90m━━━━━━━━━━━━━━━━━━━━━━━━━━━━━━━━━━━━━━\u001b[0m \u001b[32m269.3/269.3 kB\u001b[0m \u001b[31m31.2 MB/s\u001b[0m eta \u001b[36m0:00:00\u001b[0m\n",
      "\u001b[2K     \u001b[90m━━━━━━━━━━━━━━━━━━━━━━━━━━━━━━━━━━━━━━\u001b[0m \u001b[32m158.8/158.8 kB\u001b[0m \u001b[31m15.8 MB/s\u001b[0m eta \u001b[36m0:00:00\u001b[0m\n",
      "\u001b[2K     \u001b[90m━━━━━━━━━━━━━━━━━━━━━━━━━━━━━━━━━━━━━━\u001b[0m \u001b[32m114.2/114.2 kB\u001b[0m \u001b[31m11.2 MB/s\u001b[0m eta \u001b[36m0:00:00\u001b[0m\n",
      "\u001b[?25h"
     ]
    }
   ],
   "source": [
    "%pip install -q datasets transformers"
   ]
  },
  {
   "cell_type": "code",
   "execution_count": 2,
   "metadata": {},
   "outputs": [
    {
     "data": {
      "application/vnd.jupyter.widget-view+json": {
       "model_id": "0cf708eb969a4f3f9fd829ad3e14ea1e",
       "version_major": 2,
       "version_minor": 0
      },
      "text/plain": [
       "Downloading builder script:   0%|          | 0.00/2.43k [00:00<?, ?B/s]"
      ]
     },
     "metadata": {},
     "output_type": "display_data"
    },
    {
     "name": "stdout",
     "output_type": "stream",
     "text": [
      "Downloading and preparing dataset kanjis2radicals/default to /root/.cache/huggingface/datasets/martingrzzler___kanjis2radicals/default/0.0.0/275e8ee81763b2d0e8161bc5b3b4cc22fbb2cf69c7a4e80e08a840a278b81552...\n"
     ]
    },
    {
     "data": {
      "application/vnd.jupyter.widget-view+json": {
       "model_id": "7475d3ed815745469ae414072a1610ae",
       "version_major": 2,
       "version_minor": 0
      },
      "text/plain": [
       "Downloading data:   0%|          | 0.00/368k [00:00<?, ?B/s]"
      ]
     },
     "metadata": {},
     "output_type": "display_data"
    },
    {
     "data": {
      "application/vnd.jupyter.widget-view+json": {
       "model_id": "679944b396b94e93b5289d8883784fe8",
       "version_major": 2,
       "version_minor": 0
      },
      "text/plain": [
       "Downloading data:   0%|          | 0.00/2.95M [00:00<?, ?B/s]"
      ]
     },
     "metadata": {},
     "output_type": "display_data"
    },
    {
     "data": {
      "application/vnd.jupyter.widget-view+json": {
       "model_id": "21409f9c362c4a0a984391ed19fe3f70",
       "version_major": 2,
       "version_minor": 0
      },
      "text/plain": [
       "Generating train split: 0 examples [00:00, ? examples/s]"
      ]
     },
     "metadata": {},
     "output_type": "display_data"
    },
    {
     "name": "stdout",
     "output_type": "stream",
     "text": [
      "Dataset kanjis2radicals downloaded and prepared to /root/.cache/huggingface/datasets/martingrzzler___kanjis2radicals/default/0.0.0/275e8ee81763b2d0e8161bc5b3b4cc22fbb2cf69c7a4e80e08a840a278b81552. Subsequent calls will reuse this data.\n"
     ]
    },
    {
     "data": {
      "application/vnd.jupyter.widget-view+json": {
       "model_id": "7c7b86a388b442a68c38944149809420",
       "version_major": 2,
       "version_minor": 0
      },
      "text/plain": [
       "  0%|          | 0/1 [00:00<?, ?it/s]"
      ]
     },
     "metadata": {},
     "output_type": "display_data"
    }
   ],
   "source": [
    "from datasets import load_dataset\n",
    "\n",
    "ds = load_dataset(\"martingrzzler/kanjis2radicals\")"
   ]
  },
  {
   "cell_type": "code",
   "execution_count": 3,
   "metadata": {},
   "outputs": [
    {
     "data": {
      "text/plain": [
       "{'kanji_image': Image(decode=True, id=None),\n",
       " 'meta': {'id': Value(dtype='int32', id=None),\n",
       "  'characters': Value(dtype='string', id=None),\n",
       "  'meanings': Value(dtype='string', id=None),\n",
       "  'radicals': Sequence(feature={'characters': Value(dtype='string', id=None), 'id': Value(dtype='int32', id=None), 'slug': Value(dtype='string', id=None)}, length=-1, id=None)}}"
      ]
     },
     "execution_count": 3,
     "metadata": {},
     "output_type": "execute_result"
    }
   ],
   "source": [
    "ds['train'].features"
   ]
  },
  {
   "cell_type": "code",
   "execution_count": 4,
   "metadata": {},
   "outputs": [
    {
     "name": "stdout",
     "output_type": "stream",
     "text": [
      "{'kanji_image': <PIL.PngImagePlugin.PngImageFile image mode=L size=64x64 at 0x7F23ECA6FEB0>, 'meta': {'id': 2083, 'characters': '丈', 'meanings': 'Height,Ten Feet', 'radicals': {'characters': ['丈'], 'id': [408], 'slug': ['height']}}}\n"
     ]
    },
    {
     "data": {
      "image/png": "[encoded data removed]",
      "text/plain": [
       "<PIL.PngImagePlugin.PngImageFile image mode=L size=64x64 at 0x7F23ECA6FBE0>"
      ]
     },
     "execution_count": 4,
     "metadata": {},
     "output_type": "execute_result"
    }
   ],
   "source": [
    "idx = 5\n",
    "print(ds['train'][idx])\n",
    "ds['train'][idx]['kanji_image']"
   ]
  },
  {
   "cell_type": "code",
   "execution_count": 5,
   "metadata": {},
   "outputs": [],
   "source": [
    "import numpy as np\n",
    "radical_range = set(range(1,440))\n",
    "radical_ids = set()\n",
    "\n",
    "for meta in ds['train']['meta']:\n",
    "    for id in meta['radicals']['id']:\n",
    "        if id <= 439:\n",
    "            radical_ids.add(id)\n",
    "\n",
    "unique_radical_ids = sorted(list(radical_ids))\n",
    "num_classes = len(unique_radical_ids)\n",
    "radical_id_to_index = {radical_id: idx for idx, radical_id in enumerate(unique_radical_ids)}"
   ]
  },
  {
   "cell_type": "code",
   "execution_count": 6,
   "metadata": {},
   "outputs": [],
   "source": [
    "missing_radical_ids = radical_range - radical_ids"
   ]
  },
  {
   "cell_type": "code",
   "execution_count": 7,
   "metadata": {},
   "outputs": [
    {
     "data": {
      "text/plain": [
       "{58, 59, 70, 133, 225, 316, 335, 375, 386, 401}"
      ]
     },
     "execution_count": 7,
     "metadata": {},
     "output_type": "execute_result"
    }
   ],
   "source": [
    "missing_radical_ids"
   ]
  },
  {
   "cell_type": "code",
   "execution_count": 8,
   "metadata": {},
   "outputs": [
    {
     "data": {
      "application/vnd.jupyter.widget-view+json": {
       "model_id": "7bff944f61ba4b07a6d2294323a793c3",
       "version_major": 2,
       "version_minor": 0
      },
      "text/plain": [
       "Downloading builder script:   0%|          | 0.00/2.06k [00:00<?, ?B/s]"
      ]
     },
     "metadata": {},
     "output_type": "display_data"
    },
    {
     "name": "stdout",
     "output_type": "stream",
     "text": [
      "Downloading and preparing dataset radicals/default to /root/.cache/huggingface/datasets/martingrzzler___radicals/default/0.0.0/d06fa45bbf364a018a5727e22360769bec2306739b86877c63d2734b6fad32e7...\n"
     ]
    },
    {
     "data": {
      "application/vnd.jupyter.widget-view+json": {
       "model_id": "6851a529389e4fd0b7066212068c965f",
       "version_major": 2,
       "version_minor": 0
      },
      "text/plain": [
       "Downloading data:   0%|          | 0.00/1.07M [00:00<?, ?B/s]"
      ]
     },
     "metadata": {},
     "output_type": "display_data"
    },
    {
     "data": {
      "application/vnd.jupyter.widget-view+json": {
       "model_id": "cf492adba3dd436081327fde695cd335",
       "version_major": 2,
       "version_minor": 0
      },
      "text/plain": [
       "Downloading data:   0%|          | 0.00/19.9M [00:00<?, ?B/s]"
      ]
     },
     "metadata": {},
     "output_type": "display_data"
    },
    {
     "data": {
      "application/vnd.jupyter.widget-view+json": {
       "model_id": "1724e7233530495882bb3f17cf747d50",
       "version_major": 2,
       "version_minor": 0
      },
      "text/plain": [
       "Generating train split: 0 examples [00:00, ? examples/s]"
      ]
     },
     "metadata": {},
     "output_type": "display_data"
    },
    {
     "name": "stdout",
     "output_type": "stream",
     "text": [
      "Dataset radicals downloaded and prepared to /root/.cache/huggingface/datasets/martingrzzler___radicals/default/0.0.0/d06fa45bbf364a018a5727e22360769bec2306739b86877c63d2734b6fad32e7. Subsequent calls will reuse this data.\n"
     ]
    },
    {
     "data": {
      "application/vnd.jupyter.widget-view+json": {
       "model_id": "6b29b81887804e0b921e65080ba2e0dc",
       "version_major": 2,
       "version_minor": 0
      },
      "text/plain": [
       "  0%|          | 0/1 [00:00<?, ?it/s]"
      ]
     },
     "metadata": {},
     "output_type": "display_data"
    }
   ],
   "source": [
    "radical_ds = load_dataset(\"martingrzzler/radicals\")"
   ]
  },
  {
   "cell_type": "code",
   "execution_count": 9,
   "metadata": {},
   "outputs": [],
   "source": [
    "radical_ids = set()\n",
    "for meta in radical_ds['train']['meta']:\n",
    "    radical_ids.add(meta['id'])\n",
    "\n",
    "unique_radical_ids = sorted(list(radical_ids))\n",
    "num_classes = len(unique_radical_ids)\n",
    "radical_id_to_index = {radical_id: idx for idx, radical_id in enumerate(unique_radical_ids)}"
   ]
  },
  {
   "cell_type": "code",
   "execution_count": 10,
   "metadata": {},
   "outputs": [
    {
     "data": {
      "text/plain": [
       "439"
      ]
     },
     "execution_count": 10,
     "metadata": {},
     "output_type": "execute_result"
    }
   ],
   "source": [
    "num_classes"
   ]
  },
  {
   "cell_type": "code",
   "execution_count": 11,
   "metadata": {},
   "outputs": [],
   "source": [
    "def filter_unsupported_radicals(example):\n",
    "    for id in example['meta']['radicals']['id']:\n",
    "        if id > 439:\n",
    "            return False\n",
    "    return True"
   ]
  },
  {
   "cell_type": "code",
   "execution_count": 18,
   "metadata": {},
   "outputs": [
    {
     "name": "stderr",
     "output_type": "stream",
     "text": [
      "WARNING:datasets.arrow_dataset:Loading cached processed dataset at /root/.cache/huggingface/datasets/martingrzzler___kanjis2radicals/default/0.0.0/275e8ee81763b2d0e8161bc5b3b4cc22fbb2cf69c7a4e80e08a840a278b81552/cache-a167daa1224251f2.arrow\n"
     ]
    },
    {
     "data": {
      "application/vnd.jupyter.widget-view+json": {
       "model_id": "e9906afb80b94616a7a47a3a52471fd5",
       "version_major": 2,
       "version_minor": 0
      },
      "text/plain": [
       "Map:   0%|          | 0/1750 [00:00<?, ? examples/s]"
      ]
     },
     "metadata": {},
     "output_type": "display_data"
    }
   ],
   "source": [
    "filtered_ds = ds['train'].filter(filter_unsupported_radicals)\n",
    "filtered_ds = filtered_ds.map(lambda example: {'kanji_id': example['meta']['id']})"
   ]
  },
  {
   "cell_type": "code",
   "execution_count": 32,
   "metadata": {},
   "outputs": [],
   "source": [
    "filtered_ds = filtered_ds.sort(['kanji_id'])\n",
    "\n",
    "curriculums = []\n",
    "curriculums_len = len(filtered_ds) // 5\n",
    "for i in range(0, len(filtered_ds), curriculums_len):\n",
    "    curriculums.append(filtered_ds.select(range(i, i + curriculums_len)))\n",
    "\n"
   ]
  },
  {
   "cell_type": "code",
   "execution_count": 23,
   "metadata": {},
   "outputs": [],
   "source": [
    "import numpy as np\n",
    "\n",
    "def one_hot_encode(example):\n",
    "    radical_indices = [radical_id_to_index[id] for id in example[\"meta\"][\"radicals\"][\"id\"]]\n",
    "    one_hot = np.zeros(len(unique_radical_ids))\n",
    "    one_hot[radical_indices] = 1\n",
    "    return {\"labels\": one_hot}"
   ]
  },
  {
   "cell_type": "code",
   "execution_count": 74,
   "metadata": {},
   "outputs": [
    {
     "data": {
      "application/vnd.jupyter.widget-view+json": {
       "model_id": "4f1cce0f8f1443aa9f9dcaa5eab6f26f",
       "version_major": 2,
       "version_minor": 0
      },
      "text/plain": [
       "Map:   0%|          | 0/350 [00:00<?, ? examples/s]"
      ]
     },
     "metadata": {},
     "output_type": "display_data"
    }
   ],
   "source": [
    "ds_one_hot = curriculums[0].map(one_hot_encode)"
   ]
  },
  {
   "cell_type": "code",
   "execution_count": 75,
   "metadata": {},
   "outputs": [],
   "source": [
    "ds_train = ds_one_hot.remove_columns([\"meta\"])"
   ]
  },
  {
   "cell_type": "code",
   "execution_count": 139,
   "metadata": {},
   "outputs": [],
   "source": [
    "import random\n",
    "\n",
    "def random_rotate_image(image):\n",
    "    angle = random.choice([0, 90, 180, 270])\n",
    "    return image.rotate(angle)"
   ]
  },
  {
   "cell_type": "code",
   "execution_count": 140,
   "metadata": {},
   "outputs": [],
   "source": [
    "from datasets import Dataset\n",
    "rotated_samples = []\n",
    "\n",
    "angles = [0, 90, 180, 270]\n",
    "\n",
    "for i in range(len(ds_train)):\n",
    "    example = ds_train[i].copy()\n",
    "    rotated_samples.append(example)\n",
    "    for i in range(len(angles)):\n",
    "        rotated_example = example.copy()\n",
    "        rotated_example['kanji_image'] = example['kanji_image'].rotate(angles[i])\n",
    "        rotated_samples.append(rotated_example)\n"
   ]
  },
  {
   "cell_type": "code",
   "execution_count": 76,
   "metadata": {},
   "outputs": [
    {
     "ename": "NameError",
     "evalue": "name 'Dataset' is not defined",
     "output_type": "error",
     "traceback": [
      "\u001b[0;31m---------------------------------------------------------------------------\u001b[0m",
      "\u001b[0;31mNameError\u001b[0m                                 Traceback (most recent call last)",
      "\u001b[0;32m<ipython-input-76-d36e46cfe979>\u001b[0m in \u001b[0;36m<cell line: 2>\u001b[0;34m()\u001b[0m\n\u001b[1;32m      1\u001b[0m \u001b[0;32mimport\u001b[0m \u001b[0mpandas\u001b[0m \u001b[0;32mas\u001b[0m \u001b[0mpd\u001b[0m\u001b[0;34m\u001b[0m\u001b[0;34m\u001b[0m\u001b[0m\n\u001b[0;32m----> 2\u001b[0;31m \u001b[0mrotated_ds\u001b[0m \u001b[0;34m=\u001b[0m \u001b[0mDataset\u001b[0m\u001b[0;34m.\u001b[0m\u001b[0mfrom_dict\u001b[0m\u001b[0;34m(\u001b[0m\u001b[0mpd\u001b[0m\u001b[0;34m.\u001b[0m\u001b[0mDataFrame\u001b[0m\u001b[0;34m(\u001b[0m\u001b[0mrotated_samples\u001b[0m\u001b[0;34m)\u001b[0m\u001b[0;34m)\u001b[0m\u001b[0;34m\u001b[0m\u001b[0;34m\u001b[0m\u001b[0m\n\u001b[0m",
      "\u001b[0;31mNameError\u001b[0m: name 'Dataset' is not defined"
     ]
    }
   ],
   "source": [
    "import pandas as pd\n",
    "rotated_ds = Dataset.from_dict(pd.DataFrame(rotated_samples))"
   ]
  },
  {
   "cell_type": "code",
   "execution_count": 77,
   "metadata": {},
   "outputs": [],
   "source": [
    "# rotated_ds.set_format(type='torch', columns=['kanji_image', 'labels'])\n",
    "ds_train.set_format(type='torch', columns=['kanji_image', 'labels'])"
   ]
  },
  {
   "cell_type": "code",
   "execution_count": 78,
   "metadata": {},
   "outputs": [
    {
     "data": {
      "application/vnd.jupyter.widget-view+json": {
       "model_id": "955c56dd93964dd392aa2eb81c201175",
       "version_major": 2,
       "version_minor": 0
      },
      "text/plain": [
       "Map:   0%|          | 0/350 [00:00<?, ? examples/s]"
      ]
     },
     "metadata": {},
     "output_type": "display_data"
    }
   ],
   "source": [
    "normalized_ds = ds_train.map(lambda example: {'kanji_image': example['kanji_image'].unsqueeze(0) / 255.0})"
   ]
  },
  {
   "cell_type": "code",
   "execution_count": 79,
   "metadata": {},
   "outputs": [],
   "source": [
    "splits = normalized_ds.train_test_split(test_size=0.1, shuffle=True)"
   ]
  },
  {
   "cell_type": "code",
   "execution_count": 80,
   "metadata": {},
   "outputs": [],
   "source": [
    "import torch\n",
    "import torch.nn as nn\n",
    "import torch.nn.functional as F\n",
    "\n",
    "class Net(nn.Module):\n",
    "    def __init__(self, num_classes):\n",
    "        super(Net, self).__init__()\n",
    "        self.conv1 = nn.Conv2d(1, 32, 3, 1)\n",
    "        self.conv2 = nn.Conv2d(32, 64, 3, 1)\n",
    "        self.conv3 = nn.Conv2d(64, 128, 3, 1)\n",
    "        self.dropout1 = nn.Dropout(0.25)\n",
    "        self.dropout2 = nn.Dropout(0.5)\n",
    "        self.fc1 = nn.Linear(107648, 128)\n",
    "        self.fc2 = nn.Linear(128, num_classes)\n",
    "        self.fc3 = nn.Linear(num_classes, num_classes)\n",
    "\n",
    "    def forward(self, x):\n",
    "        x = self.conv1(x)\n",
    "        x = F.relu(x)\n",
    "        x = self.conv2(x)\n",
    "        x = F.relu(x)\n",
    "        x = self.conv3(x)\n",
    "        x = F.relu(x)\n",
    "        x = F.max_pool2d(x, 2)\n",
    "        x = self.dropout1(x)\n",
    "        x = torch.flatten(x, 1)\n",
    "        x = self.fc1(x)\n",
    "        x = F.relu(x)\n",
    "        x = self.dropout2(x)\n",
    "        x = self.fc2(x)\n",
    "        x = F.relu(x)\n",
    "        x = self.fc3(x)\n",
    "        output = F.sigmoid(x)\n",
    "        return output\n",
    "\n",
    "model = Net(num_classes)"
   ]
  },
  {
   "cell_type": "code",
   "execution_count": 81,
   "metadata": {},
   "outputs": [],
   "source": [
    "import torch\n",
    "\n",
    "best_radical_state_dict = torch.load('v1_best.pt')\n",
    "new_state_dict = model.state_dict()\n",
    "\n",
    "for key in best_radical_state_dict:\n",
    "    if key.startswith('fc3'):\n",
    "        continue\n",
    "    new_state_dict[key] = best_radical_state_dict[key]\n"
   ]
  },
  {
   "cell_type": "code",
   "execution_count": 82,
   "metadata": {},
   "outputs": [
    {
     "data": {
      "text/plain": [
       "<All keys matched successfully>"
      ]
     },
     "execution_count": 82,
     "metadata": {},
     "output_type": "execute_result"
    }
   ],
   "source": [
    "model.load_state_dict(new_state_dict)"
   ]
  },
  {
   "cell_type": "code",
   "execution_count": 98,
   "metadata": {},
   "outputs": [],
   "source": [
    "# # freeze pretrained layers\n",
    "# for param in model.parameters():\n",
    "#     param.requires_grad = False\n",
    "\n",
    "# # unfreeze last layer\n",
    "# for param in model.fc3.parameters():\n",
    "#     param.requires_grad = True"
   ]
  },
  {
   "cell_type": "code",
   "execution_count": 83,
   "metadata": {},
   "outputs": [],
   "source": [
    "from torch.utils.data import DataLoader\n",
    "\n",
    "batch_size = 8\n",
    "\n",
    "splits.set_format(type='torch', columns=['kanji_image', 'labels'])\n",
    "train_loader = DataLoader(splits['train'], batch_size=batch_size, shuffle=True)\n",
    "test_loader = DataLoader(splits['test'], batch_size=batch_size, shuffle=False)"
   ]
  },
  {
   "cell_type": "code",
   "execution_count": 84,
   "metadata": {},
   "outputs": [],
   "source": [
    "import torch\n",
    "import torch.nn as nn\n",
    "\n",
    "loss_fn = nn.BCELoss()\n",
    "optimizer = torch.optim.Adam(model.parameters(), lr=0.0001)"
   ]
  },
  {
   "cell_type": "code",
   "execution_count": 85,
   "metadata": {},
   "outputs": [
    {
     "data": {
      "text/plain": [
       "Net(\n",
       "  (conv1): Conv2d(1, 32, kernel_size=(3, 3), stride=(1, 1))\n",
       "  (conv2): Conv2d(32, 64, kernel_size=(3, 3), stride=(1, 1))\n",
       "  (conv3): Conv2d(64, 128, kernel_size=(3, 3), stride=(1, 1))\n",
       "  (dropout1): Dropout(p=0.25, inplace=False)\n",
       "  (dropout2): Dropout(p=0.5, inplace=False)\n",
       "  (fc1): Linear(in_features=107648, out_features=128, bias=True)\n",
       "  (fc2): Linear(in_features=128, out_features=439, bias=True)\n",
       "  (fc3): Linear(in_features=439, out_features=439, bias=True)\n",
       ")"
      ]
     },
     "execution_count": 85,
     "metadata": {},
     "output_type": "execute_result"
    }
   ],
   "source": [
    "num_epochs = 10\n",
    "device = torch.device(\"cuda\" if torch.cuda.is_available() else \"cpu\")\n",
    "model.to(device)"
   ]
  },
  {
   "cell_type": "code",
   "execution_count": 86,
   "metadata": {},
   "outputs": [
    {
     "data": {
      "text/plain": [
       "torch.Size([1, 64, 64])"
      ]
     },
     "execution_count": 86,
     "metadata": {},
     "output_type": "execute_result"
    }
   ],
   "source": [
    "train_loader.dataset[0]['kanji_image'].shape"
   ]
  },
  {
   "cell_type": "code",
   "execution_count": 90,
   "metadata": {},
   "outputs": [
    {
     "name": "stdout",
     "output_type": "stream",
     "text": [
      "Epoch 1/10, Step 1/40, Loss: 0.02950112707912922\n",
      "Epoch 1/10, Step 11/40, Loss: 0.02970702387392521\n",
      "Epoch 1/10, Step 21/40, Loss: 0.029963556677103043\n",
      "Epoch 1/10, Step 31/40, Loss: 0.026512883603572845\n",
      "Epoch 1/10, Train Loss: 0.028970342129468918, Val Loss: 0.028078201040625573\n",
      "Epoch 2/10, Step 1/40, Loss: 0.029802067205309868\n",
      "Epoch 2/10, Step 11/40, Loss: 0.03246661648154259\n",
      "Epoch 2/10, Step 21/40, Loss: 0.022536708042025566\n",
      "Epoch 2/10, Step 31/40, Loss: 0.02556964010000229\n",
      "Epoch 2/10, Train Loss: 0.030800024420022963, Val Loss: 0.027711467817425728\n",
      "Epoch 3/10, Step 1/40, Loss: 0.029124433174729347\n",
      "Epoch 3/10, Step 11/40, Loss: 0.024336811155080795\n",
      "Epoch 3/10, Step 21/40, Loss: 0.031075969338417053\n",
      "Epoch 3/10, Step 31/40, Loss: 0.026449205353856087\n",
      "Epoch 3/10, Train Loss: 0.02746882466599345, Val Loss: 0.028096194192767144\n",
      "Epoch 4/10, Step 1/40, Loss: 0.03066120482981205\n",
      "Epoch 4/10, Step 11/40, Loss: 0.03229754418134689\n",
      "Epoch 4/10, Step 21/40, Loss: 0.02736651338636875\n",
      "Epoch 4/10, Step 31/40, Loss: 0.02342577837407589\n",
      "Epoch 4/10, Train Loss: 0.0274743527173996, Val Loss: 0.02794264890253544\n",
      "Epoch 5/10, Step 1/40, Loss: 0.022786539047956467\n",
      "Epoch 5/10, Step 11/40, Loss: 0.029793579131364822\n",
      "Epoch 5/10, Step 21/40, Loss: 0.029829034581780434\n",
      "Epoch 5/10, Step 31/40, Loss: 0.029377872124314308\n",
      "Epoch 5/10, Train Loss: 0.027354311523959042, Val Loss: 0.027492657676339148\n",
      "Epoch 6/10, Step 1/40, Loss: 0.025627346709370613\n",
      "Epoch 6/10, Step 11/40, Loss: 0.025582317262887955\n",
      "Epoch 6/10, Step 21/40, Loss: 0.024496963247656822\n",
      "Epoch 6/10, Step 31/40, Loss: 0.02744654007256031\n",
      "Epoch 6/10, Train Loss: 0.028769559133797883, Val Loss: 0.027508455514907836\n",
      "Epoch 7/10, Step 1/40, Loss: 0.0269674900919199\n",
      "Epoch 7/10, Step 11/40, Loss: 0.030360620468854904\n",
      "Epoch 7/10, Step 21/40, Loss: 0.025967227295041084\n",
      "Epoch 7/10, Step 31/40, Loss: 0.028581254184246063\n",
      "Epoch 7/10, Train Loss: 0.02891062442213297, Val Loss: 0.02774260826408863\n",
      "Epoch 8/10, Step 1/40, Loss: 0.026555603370070457\n",
      "Epoch 8/10, Step 11/40, Loss: 0.026593118906021118\n",
      "Epoch 8/10, Step 21/40, Loss: 0.024969862774014473\n",
      "Epoch 8/10, Step 31/40, Loss: 0.09334734082221985\n",
      "Epoch 8/10, Train Loss: 0.0318643992766738, Val Loss: 0.02742222361266613\n",
      "Epoch 9/10, Step 1/40, Loss: 0.028059406206011772\n",
      "Epoch 9/10, Step 11/40, Loss: 0.02424132265150547\n",
      "Epoch 9/10, Step 21/40, Loss: 0.029526038095355034\n",
      "Epoch 9/10, Step 31/40, Loss: 0.02655142731964588\n",
      "Epoch 9/10, Train Loss: 0.027061072178184986, Val Loss: 0.027594898641109467\n",
      "Epoch 10/10, Step 1/40, Loss: 0.03239854425191879\n",
      "Epoch 10/10, Step 11/40, Loss: 0.02937784604728222\n",
      "Epoch 10/10, Step 21/40, Loss: 0.026377685368061066\n",
      "Epoch 10/10, Step 31/40, Loss: 0.02690199948847294\n",
      "Epoch 10/10, Train Loss: 0.026498166564852, Val Loss: 0.027905983850359917\n"
     ]
    }
   ],
   "source": [
    "losses = []\n",
    "\n",
    "for epoch in range(num_epochs):\n",
    "    train_loss = 0.0\n",
    "    model.train()\n",
    "    for idx, batch in enumerate(train_loader):\n",
    "        images, labels = batch['kanji_image'].to(device), batch['labels'].to(device)\n",
    "        optimizer.zero_grad()\n",
    "        outputs = model(images)\n",
    "        loss = loss_fn(outputs, labels)\n",
    "        losses.append(loss.item())\n",
    "        train_loss += loss.item()\n",
    "        loss.backward()\n",
    "        optimizer.step()\n",
    "        if idx % 10 == 0:\n",
    "            print(f\"Epoch {epoch+1}/{num_epochs}, Step {idx+1}/{len(train_loader)}, Loss: {loss.item()}\")\n",
    "\n",
    "    model.eval()\n",
    "    test_loss = 0.0\n",
    "    with torch.no_grad():\n",
    "        for batch in test_loader:\n",
    "            images, labels = batch['kanji_image'].to(device), batch['labels'].to(device)\n",
    "            outputs = model(images)\n",
    "            loss = loss_fn(outputs, labels)\n",
    "            test_loss += loss.item()\n",
    "        print(f\"Epoch {epoch+1}/{num_epochs}, Train Loss: {train_loss/len(train_loader)}, Val Loss: {test_loss/len(test_loader)}\")"
   ]
  },
  {
   "cell_type": "code",
   "execution_count": 91,
   "metadata": {},
   "outputs": [
    {
     "data": {
      "image/png": "[encoded data removed]",
      "text/plain": [
       "<Figure size 640x480 with 1 Axes>"
      ]
     },
     "metadata": {},
     "output_type": "display_data"
    }
   ],
   "source": [
    "import matplotlib.pyplot as plt\n",
    "\n",
    "plt.plot(losses)\n",
    "plt.show()"
   ]
  },
  {
   "cell_type": "code",
   "execution_count": 65,
   "metadata": {},
   "outputs": [],
   "source": [
    "def predict(model, image):\n",
    "    model.eval()\n",
    "    with torch.no_grad():\n",
    "        image = image.unsqueeze(0).unsqueeze(0).to(device) / 255.0\n",
    "        print(image.shape)\n",
    "        output = model(image)\n",
    "        return output"
   ]
  },
  {
   "cell_type": "code",
   "execution_count": 72,
   "metadata": {},
   "outputs": [
    {
     "name": "stdout",
     "output_type": "stream",
     "text": [
      "torch.Size([1, 1, 64, 64])\n"
     ]
    },
    {
     "data": {
      "text/plain": [
       "tensor(22, device='cuda:0')"
      ]
     },
     "execution_count": 72,
     "metadata": {},
     "output_type": "execute_result"
    }
   ],
   "source": [
    "predict(model, ds_train[5]['kanji_image']).argmax()"
   ]
  },
  {
   "cell_type": "code",
   "execution_count": 73,
   "metadata": {},
   "outputs": [
    {
     "data": {
      "text/plain": [
       "<matplotlib.image.AxesImage at 0x7f23326698b0>"
      ]
     },
     "execution_count": 73,
     "metadata": {},
     "output_type": "execute_result"
    },
    {
     "data": {
      "image/png": "[encoded data removed]",
      "text/plain": [
       "<Figure size 640x480 with 1 Axes>"
      ]
     },
     "metadata": {},
     "output_type": "display_data"
    }
   ],
   "source": [
    "import matplotlib.pyplot as plt\n",
    "\n",
    "plt.imshow(ds_train[5]['kanji_image'], cmap='gray')"
   ]
  },
  {
   "cell_type": "code",
   "execution_count": 60,
   "metadata": {},
   "outputs": [
    {
     "name": "stdout",
     "output_type": "stream",
     "text": [
      "F1 Score: 0.008738972825865717\n",
      "Ground Truth: [ 61 160 423]\n",
      "Predictions: []\n",
      "\n",
      "Ground Truth: [218 419]\n",
      "Predictions: []\n",
      "\n",
      "Ground Truth: [175 332]\n",
      "Predictions: []\n",
      "\n",
      "Ground Truth: [ 59 273]\n",
      "Predictions: []\n",
      "\n",
      "Ground Truth: [102 341]\n",
      "Predictions: []\n",
      "\n",
      "Ground Truth: [ 89 216 361]\n",
      "Predictions: []\n",
      "\n",
      "Ground Truth: [ 84 215]\n",
      "Predictions: []\n",
      "\n",
      "Ground Truth: [ 42 326]\n",
      "Predictions: [15 22]\n",
      "\n",
      "Ground Truth: [ 74 320]\n",
      "Predictions: [15 22 62]\n",
      "\n",
      "Ground Truth: [ 10 169]\n",
      "Predictions: [15]\n",
      "\n"
     ]
    },
    {
     "name": "stderr",
     "output_type": "stream",
     "text": [
      "/usr/local/lib/python3.9/dist-packages/sklearn/metrics/_classification.py:1609: UndefinedMetricWarning: F-score is ill-defined and being set to 0.0 in labels with no true nor predicted samples. Use `zero_division` parameter to control this behavior.\n",
      "  _warn_prf(average, \"true nor predicted\", \"F-score is\", len(true_sum))\n"
     ]
    }
   ],
   "source": [
    "import numpy as np\n",
    "from sklearn.metrics import f1_score\n",
    "\n",
    "threshold = 0.1\n",
    "\n",
    "model.eval()\n",
    "all_ground_truth = []\n",
    "all_predictions = []\n",
    "\n",
    "with torch.no_grad():\n",
    "    for batch in test_loader:\n",
    "        image, labels = batch['kanji_image'].to(device), batch['labels'].to(device)\n",
    "        outputs = model(image)\n",
    "        bool_outputs = (outputs > threshold).cpu().numpy()\n",
    "        all_predictions.extend(bool_outputs)\n",
    "        \n",
    "        all_ground_truth.extend(labels.cpu().numpy())\n",
    "\n",
    "y_true = np.array(all_ground_truth)\n",
    "y_pred = np.array(all_predictions)\n",
    "\n",
    "# Calculate F1 score\n",
    "f1 = f1_score(y_true, y_pred, average='weighted')\n",
    "print(\"F1 Score:\", f1)\n",
    "\n",
    "for i in range(10):\n",
    "    print(\"Ground Truth:\", np.where(y_true[i] == 1)[0])\n",
    "    print(\"Predictions:\", np.where(y_pred[i] == 1)[0])\n",
    "    print()"
   ]
  }
 ],
 "metadata": {
  "kernelspec": {
   "display_name": "Python 3",
   "language": "python",
   "name": "python3"
  },
  "language_info": {
   "codemirror_mode": {
    "name": "ipython",
    "version": 3
   },
   "file_extension": ".py",
   "mimetype": "text/x-python",
   "name": "python",
   "nbconvert_exporter": "python",
   "pygments_lexer": "ipython3",
   "version": "3.9.16"
  },
  "orig_nbformat": 4
 },
 "nbformat": 4,
 "nbformat_minor": 2
}
