{
 "cells": [
  {
   "cell_type": "code",
   "execution_count": 2,
   "metadata": {},
   "outputs": [],
   "source": [
    "%pip install -q datasets transformers"
   ]
  },
  {
   "cell_type": "code",
   "execution_count": 3,
   "metadata": {},
   "outputs": [
    {
     "name": "stderr",
     "output_type": "stream",
     "text": [
      "WARNING:datasets.builder:Found cached dataset kanjis2radicals (/root/.cache/huggingface/datasets/martingrzzler___kanjis2radicals/default/0.0.0/275e8ee81763b2d0e8161bc5b3b4cc22fbb2cf69c7a4e80e08a840a278b81552)\n"
     ]
    },
    {
     "data": {
      "application/vnd.jupyter.widget-view+json": {
       "model_id": "4ae1fb3701a64d2b8e57e23e9de3f8aa",
       "version_major": 2,
       "version_minor": 0
      },
      "text/plain": [
       "  0%|          | 0/1 [00:00<?, ?it/s]"
      ]
     },
     "metadata": {},
     "output_type": "display_data"
    }
   ],
   "source": [
    "from datasets import load_dataset\n",
    "\n",
    "ds = load_dataset(\"martingrzzler/kanjis2radicals\")"
   ]
  },
  {
   "cell_type": "code",
   "execution_count": 4,
   "metadata": {},
   "outputs": [
    {
     "data": {
      "text/plain": [
       "{'kanji_image': Image(decode=True, id=None),\n",
       " 'meta': {'id': Value(dtype='int32', id=None),\n",
       "  'characters': Value(dtype='string', id=None),\n",
       "  'meanings': Value(dtype='string', id=None),\n",
       "  'radicals': Sequence(feature={'characters': Value(dtype='string', id=None), 'id': Value(dtype='int32', id=None), 'slug': Value(dtype='string', id=None)}, length=-1, id=None)}}"
      ]
     },
     "execution_count": 4,
     "metadata": {},
     "output_type": "execute_result"
    }
   ],
   "source": [
    "ds['train'].features"
   ]
  },
  {
   "cell_type": "code",
   "execution_count": 5,
   "metadata": {},
   "outputs": [
    {
     "name": "stdout",
     "output_type": "stream",
     "text": [
      "{'kanji_image': <PIL.PngImagePlugin.PngImageFile image mode=L size=64x64 at 0x7FBA8C9F8DC0>, 'meta': {'id': 2083, 'characters': '丈', 'meanings': 'Height,Ten Feet', 'radicals': {'characters': ['丈'], 'id': [408], 'slug': ['height']}}}\n"
     ]
    },
    {
     "data": {
      "image/png": "[encoded data removed]",
      "text/plain": [
       "<PIL.PngImagePlugin.PngImageFile image mode=L size=64x64 at 0x7FBA8CA7BC10>"
      ]
     },
     "execution_count": 5,
     "metadata": {},
     "output_type": "execute_result"
    }
   ],
   "source": [
    "idx = 5\n",
    "print(ds['train'][idx])\n",
    "ds['train'][idx]['kanji_image']"
   ]
  },
  {
   "cell_type": "code",
   "execution_count": 5,
   "metadata": {},
   "outputs": [],
   "source": [
    "import numpy as np\n",
    "radical_range = set(range(1,440))\n",
    "radical_ids = set()\n",
    "\n",
    "for meta in ds['train']['meta']:\n",
    "    for id in meta['radicals']['id']:\n",
    "        if id <= 439:\n",
    "            radical_ids.add(id)\n",
    "\n",
    "unique_radical_ids = sorted(list(radical_ids))\n",
    "num_classes = len(unique_radical_ids)\n",
    "radical_id_to_index = {radical_id: idx for idx, radical_id in enumerate(unique_radical_ids)}"
   ]
  },
  {
   "cell_type": "code",
   "execution_count": 6,
   "metadata": {},
   "outputs": [],
   "source": [
    "missing_radical_ids = radical_range - radical_ids"
   ]
  },
  {
   "cell_type": "code",
   "execution_count": 7,
   "metadata": {},
   "outputs": [
    {
     "data": {
      "text/plain": [
       "{58, 59, 70, 133, 225, 316, 335, 375, 386, 401}"
      ]
     },
     "execution_count": 7,
     "metadata": {},
     "output_type": "execute_result"
    }
   ],
   "source": [
    "missing_radical_ids"
   ]
  },
  {
   "cell_type": "code",
   "execution_count": 4,
   "metadata": {},
   "outputs": [
    {
     "name": "stderr",
     "output_type": "stream",
     "text": [
      "WARNING:datasets.builder:Found cached dataset radicals (/root/.cache/huggingface/datasets/martingrzzler___radicals/default/0.0.0/d06fa45bbf364a018a5727e22360769bec2306739b86877c63d2734b6fad32e7)\n"
     ]
    },
    {
     "data": {
      "application/vnd.jupyter.widget-view+json": {
       "model_id": "f6178412422549628ce8cfc5e6622380",
       "version_major": 2,
       "version_minor": 0
      },
      "text/plain": [
       "  0%|          | 0/1 [00:00<?, ?it/s]"
      ]
     },
     "metadata": {},
     "output_type": "display_data"
    }
   ],
   "source": [
    "radical_ds = load_dataset(\"martingrzzler/radicals\")"
   ]
  },
  {
   "cell_type": "code",
   "execution_count": 5,
   "metadata": {},
   "outputs": [],
   "source": [
    "radical_ids = set()\n",
    "for meta in radical_ds['train']['meta']:\n",
    "    radical_ids.add(meta['id'])\n",
    "\n",
    "unique_radical_ids = sorted(list(radical_ids))\n",
    "num_classes = len(unique_radical_ids)\n",
    "radical_id_to_index = {radical_id: idx for idx, radical_id in enumerate(unique_radical_ids)}"
   ]
  },
  {
   "cell_type": "code",
   "execution_count": 6,
   "metadata": {},
   "outputs": [
    {
     "data": {
      "text/plain": [
       "439"
      ]
     },
     "execution_count": 6,
     "metadata": {},
     "output_type": "execute_result"
    }
   ],
   "source": [
    "num_classes"
   ]
  },
  {
   "cell_type": "code",
   "execution_count": 7,
   "metadata": {},
   "outputs": [],
   "source": [
    "def filter_unsupported_radicals(example):\n",
    "    for id in example['meta']['radicals']['id']:\n",
    "        if id > 439:\n",
    "            return False\n",
    "    return True"
   ]
  },
  {
   "cell_type": "code",
   "execution_count": 8,
   "metadata": {},
   "outputs": [
    {
     "name": "stderr",
     "output_type": "stream",
     "text": [
      "WARNING:datasets.arrow_dataset:Loading cached processed dataset at /root/.cache/huggingface/datasets/martingrzzler___kanjis2radicals/default/0.0.0/275e8ee81763b2d0e8161bc5b3b4cc22fbb2cf69c7a4e80e08a840a278b81552/cache-a167daa1224251f2.arrow\n",
      "WARNING:datasets.arrow_dataset:Loading cached processed dataset at /root/.cache/huggingface/datasets/martingrzzler___kanjis2radicals/default/0.0.0/275e8ee81763b2d0e8161bc5b3b4cc22fbb2cf69c7a4e80e08a840a278b81552/cache-80d850ddd1585e84.arrow\n"
     ]
    }
   ],
   "source": [
    "filtered_ds = ds['train'].filter(filter_unsupported_radicals)\n",
    "filtered_ds = filtered_ds.map(lambda example: {'kanji_id': example['meta']['id']})"
   ]
  },
  {
   "cell_type": "code",
   "execution_count": 9,
   "metadata": {},
   "outputs": [
    {
     "data": {
      "text/plain": [
       "Dataset({\n",
       "    features: ['kanji_image', 'meta', 'kanji_id'],\n",
       "    num_rows: 1750\n",
       "})"
      ]
     },
     "execution_count": 9,
     "metadata": {},
     "output_type": "execute_result"
    }
   ],
   "source": [
    "filtered_ds"
   ]
  },
  {
   "cell_type": "code",
   "execution_count": 10,
   "metadata": {},
   "outputs": [
    {
     "name": "stderr",
     "output_type": "stream",
     "text": [
      "WARNING:datasets.arrow_dataset:Loading cached sorted indices for dataset at /root/.cache/huggingface/datasets/martingrzzler___kanjis2radicals/default/0.0.0/275e8ee81763b2d0e8161bc5b3b4cc22fbb2cf69c7a4e80e08a840a278b81552/cache-58a53c88ee4307ba.arrow\n"
     ]
    }
   ],
   "source": [
    "filtered_ds = filtered_ds.sort(['kanji_id'])"
   ]
  },
  {
   "cell_type": "code",
   "execution_count": 11,
   "metadata": {},
   "outputs": [],
   "source": [
    "import numpy as np\n",
    "\n",
    "def one_hot_encode(example):\n",
    "    radical_indices = [radical_id_to_index[id] for id in example[\"meta\"][\"radicals\"][\"id\"]]\n",
    "    one_hot = np.zeros(len(unique_radical_ids))\n",
    "    one_hot[radical_indices] = 1\n",
    "    return {\"labels\": one_hot}"
   ]
  },
  {
   "cell_type": "code",
   "execution_count": 12,
   "metadata": {},
   "outputs": [
    {
     "name": "stderr",
     "output_type": "stream",
     "text": [
      "WARNING:datasets.arrow_dataset:Loading cached processed dataset at /root/.cache/huggingface/datasets/martingrzzler___kanjis2radicals/default/0.0.0/275e8ee81763b2d0e8161bc5b3b4cc22fbb2cf69c7a4e80e08a840a278b81552/cache-fbc944bb58d4bd9d.arrow\n"
     ]
    }
   ],
   "source": [
    "ds_one_hot = filtered_ds.map(one_hot_encode)"
   ]
  },
  {
   "cell_type": "code",
   "execution_count": 13,
   "metadata": {},
   "outputs": [
    {
     "data": {
      "text/plain": [
       "2.0"
      ]
     },
     "execution_count": 13,
     "metadata": {},
     "output_type": "execute_result"
    }
   ],
   "source": [
    "sum(ds_one_hot[1000]['labels'])"
   ]
  },
  {
   "cell_type": "code",
   "execution_count": 14,
   "metadata": {},
   "outputs": [],
   "source": [
    "ds_train = ds_one_hot.remove_columns([\"meta\"])"
   ]
  },
  {
   "cell_type": "code",
   "execution_count": 98,
   "metadata": {},
   "outputs": [],
   "source": [
    "import random\n",
    "\n",
    "def random_rotate_image(image):\n",
    "    angle = random.choice([0, 90, 180, 270])\n",
    "    return image.rotate(angle)"
   ]
  },
  {
   "cell_type": "code",
   "execution_count": 26,
   "metadata": {},
   "outputs": [],
   "source": [
    "from datasets import Dataset\n",
    "from PIL import ImageChops\n",
    "augmented = {\n",
    "    'kanji_image': [],\n",
    "    'labels': []\n",
    "}\n",
    "\n",
    "shifts = [-1, 0, 1]\n",
    "angles = [1,0,-1]\n",
    "\n",
    "for i in range(len(ds_train)):\n",
    "    example = ds_train[i].copy()\n",
    "    for i in range(len(angles)):\n",
    "        for j in range(len(shifts)):\n",
    "            for k in range(len(shifts)):\n",
    "                augmented_example = example.copy()\n",
    "                augmented_example['kanji_image'] = example['kanji_image'].rotate(angles[i])\n",
    "                augmented_example['kanji_image'] = ImageChops.offset(augmented_example['kanji_image'], shifts[j], shifts[k])\n",
    "\n",
    "                augmented['kanji_image'].append(augmented_example['kanji_image'])\n",
    "                augmented['labels'].append(augmented_example['labels'])\n"
   ]
  },
  {
   "cell_type": "code",
   "execution_count": 27,
   "metadata": {},
   "outputs": [
    {
     "data": {
      "text/plain": [
       "47250"
      ]
     },
     "execution_count": 27,
     "metadata": {},
     "output_type": "execute_result"
    }
   ],
   "source": [
    "len(augmented['labels'])"
   ]
  },
  {
   "cell_type": "code",
   "execution_count": 30,
   "metadata": {},
   "outputs": [],
   "source": [
    "import pandas as pd\n",
    "rotated_ds = Dataset.from_dict(augmented)"
   ]
  },
  {
   "cell_type": "code",
   "execution_count": 40,
   "metadata": {},
   "outputs": [],
   "source": [
    "rotated_ds.set_format(type='torch', columns=['kanji_image', 'labels'])\n",
    "# ds_train.set_format(type='torch', columns=['kanji_image', 'labels'])"
   ]
  },
  {
   "cell_type": "code",
   "execution_count": 41,
   "metadata": {},
   "outputs": [
    {
     "data": {
      "application/vnd.jupyter.widget-view+json": {
       "model_id": "21e30e49af534f33b7cd95a8125270a3",
       "version_major": 2,
       "version_minor": 0
      },
      "text/plain": [
       "Map:   0%|          | 0/47250 [00:00<?, ? examples/s]"
      ]
     },
     "metadata": {},
     "output_type": "display_data"
    }
   ],
   "source": [
    "normalized_ds = rotated_ds.map(lambda example: {'kanji_image': example['kanji_image'].unsqueeze(0) / 255.0})"
   ]
  },
  {
   "cell_type": "code",
   "execution_count": 42,
   "metadata": {},
   "outputs": [],
   "source": [
    "splits = normalized_ds.train_test_split(test_size=0.1, shuffle=True)"
   ]
  },
  {
   "cell_type": "code",
   "execution_count": 43,
   "metadata": {},
   "outputs": [],
   "source": [
    "import torch\n",
    "import torch.nn as nn\n",
    "import torch.nn.functional as F\n",
    "\n",
    "class Net(nn.Module):\n",
    "    def __init__(self, num_classes):\n",
    "        super(Net, self).__init__()\n",
    "        self.conv1 = nn.Conv2d(1, 32, 3, 1)\n",
    "        self.conv2 = nn.Conv2d(32, 64, 3, 1)\n",
    "        self.conv3 = nn.Conv2d(64, 128, 3, 1)\n",
    "        self.dropout1 = nn.Dropout(0.25)\n",
    "        self.dropout2 = nn.Dropout(0.5)\n",
    "        self.fc1 = nn.Linear(4608, 128)\n",
    "        self.fc2 = nn.Linear(128, num_classes)\n",
    "        self.fc3 = nn.Linear(num_classes, num_classes)\n",
    "\n",
    "    def forward(self, x):\n",
    "        x = self.conv1(x)\n",
    "        x = F.relu(x)\n",
    "        x = F.max_pool2d(x, 2)\n",
    "        x = self.conv2(x)\n",
    "        x = F.relu(x)\n",
    "        x = F.max_pool2d(x, 2)\n",
    "        x = self.conv3(x)\n",
    "        x = F.relu(x)\n",
    "        x = F.max_pool2d(x, 2)\n",
    "        x = self.dropout1(x)\n",
    "        x = torch.flatten(x, 1)\n",
    "        x = self.fc1(x)\n",
    "        x = F.relu(x)\n",
    "        x = self.dropout2(x)\n",
    "        x = self.fc2(x)\n",
    "        x = F.relu(x)\n",
    "        x = self.fc3(x)\n",
    "        output = F.sigmoid(x)\n",
    "        return output\n",
    "\n",
    "model = Net(num_classes)"
   ]
  },
  {
   "cell_type": "code",
   "execution_count": 44,
   "metadata": {},
   "outputs": [],
   "source": [
    "import torch\n",
    "\n",
    "best_radical_state_dict = torch.load('v2_best.pt')\n",
    "new_state_dict = model.state_dict()\n",
    "\n",
    "for key in best_radical_state_dict:\n",
    "    if key.startswith('fc3'):\n",
    "        continue\n",
    "    new_state_dict[key] = best_radical_state_dict[key]\n"
   ]
  },
  {
   "cell_type": "code",
   "execution_count": 45,
   "metadata": {},
   "outputs": [
    {
     "data": {
      "text/plain": [
       "<All keys matched successfully>"
      ]
     },
     "execution_count": 45,
     "metadata": {},
     "output_type": "execute_result"
    }
   ],
   "source": [
    "model.load_state_dict(new_state_dict)"
   ]
  },
  {
   "cell_type": "code",
   "execution_count": 52,
   "metadata": {},
   "outputs": [],
   "source": [
    "# freeze pretrained layers\n",
    "# for param in model.parameters():\n",
    "#     param.requires_grad = True\n",
    "\n",
    "# # unfreeze last layer\n",
    "# for param in model.fc3.parameters():\n",
    "#     param.requires_grad = True"
   ]
  },
  {
   "cell_type": "code",
   "execution_count": 57,
   "metadata": {},
   "outputs": [],
   "source": [
    "from torch.utils.data import DataLoader\n",
    "\n",
    "batch_size = 1\n",
    "\n",
    "splits.set_format(type='torch', columns=['kanji_image', 'labels'])\n",
    "train_loader = DataLoader(splits['train'], batch_size=batch_size, shuffle=True)\n",
    "test_loader = DataLoader(splits['test'], batch_size=batch_size, shuffle=False)"
   ]
  },
  {
   "cell_type": "code",
   "execution_count": 63,
   "metadata": {},
   "outputs": [],
   "source": [
    "import torch\n",
    "import torch.nn as nn\n",
    "\n",
    "loss_fn = nn.BCELoss()\n",
    "optimizer = torch.optim.Adam(model.parameters(), lr=0.01)"
   ]
  },
  {
   "cell_type": "code",
   "execution_count": 48,
   "metadata": {},
   "outputs": [
    {
     "data": {
      "text/plain": [
       "Net(\n",
       "  (conv1): Conv2d(1, 32, kernel_size=(3, 3), stride=(1, 1))\n",
       "  (conv2): Conv2d(32, 64, kernel_size=(3, 3), stride=(1, 1))\n",
       "  (conv3): Conv2d(64, 128, kernel_size=(3, 3), stride=(1, 1))\n",
       "  (dropout1): Dropout(p=0.25, inplace=False)\n",
       "  (dropout2): Dropout(p=0.5, inplace=False)\n",
       "  (fc1): Linear(in_features=4608, out_features=128, bias=True)\n",
       "  (fc2): Linear(in_features=128, out_features=439, bias=True)\n",
       "  (fc3): Linear(in_features=439, out_features=439, bias=True)\n",
       ")"
      ]
     },
     "execution_count": 48,
     "metadata": {},
     "output_type": "execute_result"
    }
   ],
   "source": [
    "num_epochs = 10\n",
    "device = torch.device(\"cuda\" if torch.cuda.is_available() else \"cpu\")\n",
    "model.to(device)"
   ]
  },
  {
   "cell_type": "code",
   "execution_count": 49,
   "metadata": {},
   "outputs": [
    {
     "data": {
      "text/plain": [
       "torch.Size([1, 64, 64])"
      ]
     },
     "execution_count": 49,
     "metadata": {},
     "output_type": "execute_result"
    }
   ],
   "source": [
    "train_loader.dataset[0]['kanji_image'].shape"
   ]
  },
  {
   "cell_type": "code",
   "execution_count": 64,
   "metadata": {},
   "outputs": [
    {
     "name": "stdout",
     "output_type": "stream",
     "text": [
      "Epoch 1/10, Step 1/42525, Loss: 0.019255271181464195\n",
      "Epoch 1/10, Step 101/42525, Loss: 0.30187925696372986\n",
      "Epoch 1/10, Step 201/42525, Loss: 0.15891627967357635\n",
      "Epoch 1/10, Step 301/42525, Loss: 0.10406088083982468\n",
      "Epoch 1/10, Step 401/42525, Loss: 0.08308565616607666\n",
      "Epoch 1/10, Step 501/42525, Loss: 0.06184297800064087\n",
      "Epoch 1/10, Step 601/42525, Loss: 0.05882120132446289\n",
      "Epoch 1/10, Step 701/42525, Loss: 0.04626448079943657\n",
      "Epoch 1/10, Step 801/42525, Loss: 0.055863551795482635\n",
      "Epoch 1/10, Step 901/42525, Loss: 0.03869802877306938\n",
      "Epoch 1/10, Step 1001/42525, Loss: 0.02929537557065487\n",
      "Epoch 1/10, Step 1101/42525, Loss: 0.044462382793426514\n",
      "Epoch 1/10, Step 1201/42525, Loss: 0.03418833762407303\n",
      "Epoch 1/10, Step 1301/42525, Loss: 0.024728942662477493\n",
      "Epoch 1/10, Step 1401/42525, Loss: 0.02763400226831436\n",
      "Epoch 1/10, Step 1501/42525, Loss: 0.022351223975419998\n",
      "Epoch 1/10, Step 1601/42525, Loss: 0.038786038756370544\n",
      "Epoch 1/10, Step 1701/42525, Loss: 0.0316145233809948\n",
      "Epoch 1/10, Step 1801/42525, Loss: 0.04084707796573639\n",
      "Epoch 1/10, Step 1901/42525, Loss: 0.020898016169667244\n",
      "Epoch 1/10, Step 2001/42525, Loss: 0.03076537325978279\n",
      "Epoch 1/10, Step 2101/42525, Loss: 0.026985425502061844\n",
      "Epoch 1/10, Step 2201/42525, Loss: 0.026264995336532593\n",
      "Epoch 1/10, Step 2301/42525, Loss: 0.028039371594786644\n",
      "Epoch 1/10, Step 2401/42525, Loss: 0.026823779568076134\n",
      "Epoch 1/10, Step 2501/42525, Loss: 0.035987865179777145\n",
      "Epoch 1/10, Step 2601/42525, Loss: 0.043804291635751724\n",
      "Epoch 1/10, Step 2701/42525, Loss: 0.026584526523947716\n",
      "Epoch 1/10, Step 2801/42525, Loss: 0.027994565665721893\n",
      "Epoch 1/10, Step 2901/42525, Loss: 0.03267792984843254\n",
      "Epoch 1/10, Step 3001/42525, Loss: 0.029732728376984596\n",
      "Epoch 1/10, Step 3101/42525, Loss: 0.028767423704266548\n",
      "Epoch 1/10, Step 3201/42525, Loss: 0.04776308685541153\n",
      "Epoch 1/10, Step 3301/42525, Loss: 0.018828831613063812\n",
      "Epoch 1/10, Step 3401/42525, Loss: 0.024957196786999702\n",
      "Epoch 1/10, Step 3501/42525, Loss: 0.02871096320450306\n",
      "Epoch 1/10, Step 3601/42525, Loss: 0.012153946794569492\n",
      "Epoch 1/10, Step 3701/42525, Loss: 0.018520785495638847\n",
      "Epoch 1/10, Step 3801/42525, Loss: 0.02448268234729767\n",
      "Epoch 1/10, Step 3901/42525, Loss: 0.030451739206910133\n",
      "Epoch 1/10, Step 4001/42525, Loss: 0.029436448588967323\n",
      "Epoch 1/10, Step 4101/42525, Loss: 0.024211877956986427\n",
      "Epoch 1/10, Step 4201/42525, Loss: 0.047143593430519104\n",
      "Epoch 1/10, Step 4301/42525, Loss: 0.014383835718035698\n",
      "Epoch 1/10, Step 4401/42525, Loss: 0.02896895632147789\n",
      "Epoch 1/10, Step 4501/42525, Loss: 0.03189467266201973\n",
      "Epoch 1/10, Step 4601/42525, Loss: 0.029903514310717583\n",
      "Epoch 1/10, Step 4701/42525, Loss: 0.018326397985219955\n",
      "Epoch 1/10, Step 4801/42525, Loss: 0.019387710839509964\n",
      "Epoch 1/10, Step 4901/42525, Loss: 0.026550976559519768\n",
      "Epoch 1/10, Step 5001/42525, Loss: 0.02726902812719345\n",
      "Epoch 1/10, Step 5101/42525, Loss: 0.031407102942466736\n",
      "Epoch 1/10, Step 5201/42525, Loss: 0.03333709388971329\n",
      "Epoch 1/10, Step 5301/42525, Loss: 0.028557732701301575\n",
      "Epoch 1/10, Step 5401/42525, Loss: 0.029242806136608124\n",
      "Epoch 1/10, Step 5501/42525, Loss: 0.018521495163440704\n",
      "Epoch 1/10, Step 5601/42525, Loss: 0.029085565358400345\n",
      "Epoch 1/10, Step 5701/42525, Loss: 0.01850578561425209\n",
      "Epoch 1/10, Step 5801/42525, Loss: 0.02604476362466812\n",
      "Epoch 1/10, Step 5901/42525, Loss: 0.023358391597867012\n",
      "Epoch 1/10, Step 6001/42525, Loss: 0.036466650664806366\n",
      "Epoch 1/10, Step 6101/42525, Loss: 0.02720235101878643\n",
      "Epoch 1/10, Step 6201/42525, Loss: 0.029164282605051994\n",
      "Epoch 1/10, Step 6301/42525, Loss: 0.027216747403144836\n",
      "Epoch 1/10, Step 6401/42525, Loss: 0.032577451318502426\n",
      "Epoch 1/10, Step 6501/42525, Loss: 0.04157969728112221\n",
      "Epoch 1/10, Step 6601/42525, Loss: 0.022607894614338875\n",
      "Epoch 1/10, Step 6701/42525, Loss: 0.026492612436413765\n",
      "Epoch 1/10, Step 6801/42525, Loss: 0.028658809140324593\n",
      "Epoch 1/10, Step 6901/42525, Loss: 0.025198396295309067\n",
      "Epoch 1/10, Step 7001/42525, Loss: 0.03687597066164017\n",
      "Epoch 1/10, Step 7101/42525, Loss: 0.026211736723780632\n",
      "Epoch 1/10, Step 7201/42525, Loss: 0.02936639077961445\n",
      "Epoch 1/10, Step 7301/42525, Loss: 0.0295566376298666\n",
      "Epoch 1/10, Step 7401/42525, Loss: 0.029114622622728348\n",
      "Epoch 1/10, Step 7501/42525, Loss: 0.025682875886559486\n",
      "Epoch 1/10, Step 7601/42525, Loss: 0.025448886677622795\n",
      "Epoch 1/10, Step 7701/42525, Loss: 0.02792421355843544\n",
      "Epoch 1/10, Step 7801/42525, Loss: 0.02950379066169262\n",
      "Epoch 1/10, Step 7901/42525, Loss: 0.04310644045472145\n",
      "Epoch 1/10, Step 8001/42525, Loss: 0.035992056131362915\n",
      "Epoch 1/10, Step 8101/42525, Loss: 0.024862749502062798\n",
      "Epoch 1/10, Step 8201/42525, Loss: 0.03330010175704956\n",
      "Epoch 1/10, Step 8301/42525, Loss: 0.027146408334374428\n",
      "Epoch 1/10, Step 8401/42525, Loss: 0.027460433542728424\n",
      "Epoch 1/10, Step 8501/42525, Loss: 0.03430180996656418\n",
      "Epoch 1/10, Step 8601/42525, Loss: 0.028216615319252014\n",
      "Epoch 1/10, Step 8701/42525, Loss: 0.02936381846666336\n",
      "Epoch 1/10, Step 8801/42525, Loss: 0.039980966597795486\n",
      "Epoch 1/10, Step 8901/42525, Loss: 0.026522763073444366\n",
      "Epoch 1/10, Step 9001/42525, Loss: 0.03810109943151474\n",
      "Epoch 1/10, Step 9101/42525, Loss: 0.031567610800266266\n",
      "Epoch 1/10, Step 9201/42525, Loss: 0.02428455278277397\n"
     ]
    },
    {
     "ename": "KeyboardInterrupt",
     "evalue": "",
     "output_type": "error",
     "traceback": [
      "\u001b[0;31m---------------------------------------------------------------------------\u001b[0m",
      "\u001b[0;31mKeyboardInterrupt\u001b[0m                         Traceback (most recent call last)",
      "\u001b[0;32m<ipython-input-64-16744900d7b2>\u001b[0m in \u001b[0;36m<cell line: 3>\u001b[0;34m()\u001b[0m\n\u001b[1;32m      4\u001b[0m     \u001b[0mtrain_loss\u001b[0m \u001b[0;34m=\u001b[0m \u001b[0;36m0.0\u001b[0m\u001b[0;34m\u001b[0m\u001b[0;34m\u001b[0m\u001b[0m\n\u001b[1;32m      5\u001b[0m     \u001b[0mmodel\u001b[0m\u001b[0;34m.\u001b[0m\u001b[0mtrain\u001b[0m\u001b[0;34m(\u001b[0m\u001b[0;34m)\u001b[0m\u001b[0;34m\u001b[0m\u001b[0;34m\u001b[0m\u001b[0m\n\u001b[0;32m----> 6\u001b[0;31m     \u001b[0;32mfor\u001b[0m \u001b[0midx\u001b[0m\u001b[0;34m,\u001b[0m \u001b[0mbatch\u001b[0m \u001b[0;32min\u001b[0m \u001b[0menumerate\u001b[0m\u001b[0;34m(\u001b[0m\u001b[0mtrain_loader\u001b[0m\u001b[0;34m)\u001b[0m\u001b[0;34m:\u001b[0m\u001b[0;34m\u001b[0m\u001b[0;34m\u001b[0m\u001b[0m\n\u001b[0m\u001b[1;32m      7\u001b[0m         \u001b[0mimages\u001b[0m\u001b[0;34m,\u001b[0m \u001b[0mlabels\u001b[0m \u001b[0;34m=\u001b[0m \u001b[0mbatch\u001b[0m\u001b[0;34m[\u001b[0m\u001b[0;34m'kanji_image'\u001b[0m\u001b[0;34m]\u001b[0m\u001b[0;34m.\u001b[0m\u001b[0mto\u001b[0m\u001b[0;34m(\u001b[0m\u001b[0mdevice\u001b[0m\u001b[0;34m)\u001b[0m\u001b[0;34m,\u001b[0m \u001b[0mbatch\u001b[0m\u001b[0;34m[\u001b[0m\u001b[0;34m'labels'\u001b[0m\u001b[0;34m]\u001b[0m\u001b[0;34m.\u001b[0m\u001b[0mto\u001b[0m\u001b[0;34m(\u001b[0m\u001b[0mdevice\u001b[0m\u001b[0;34m)\u001b[0m\u001b[0;34m\u001b[0m\u001b[0;34m\u001b[0m\u001b[0m\n\u001b[1;32m      8\u001b[0m         \u001b[0moptimizer\u001b[0m\u001b[0;34m.\u001b[0m\u001b[0mzero_grad\u001b[0m\u001b[0;34m(\u001b[0m\u001b[0;34m)\u001b[0m\u001b[0;34m\u001b[0m\u001b[0;34m\u001b[0m\u001b[0m\n",
      "\u001b[0;32m/usr/local/lib/python3.9/dist-packages/torch/utils/data/dataloader.py\u001b[0m in \u001b[0;36m__next__\u001b[0;34m(self)\u001b[0m\n\u001b[1;32m    632\u001b[0m                 \u001b[0;31m# TODO(https://github.com/pytorch/pytorch/issues/76750)\u001b[0m\u001b[0;34m\u001b[0m\u001b[0;34m\u001b[0m\u001b[0m\n\u001b[1;32m    633\u001b[0m                 \u001b[0mself\u001b[0m\u001b[0;34m.\u001b[0m\u001b[0m_reset\u001b[0m\u001b[0;34m(\u001b[0m\u001b[0;34m)\u001b[0m  \u001b[0;31m# type: ignore[call-arg]\u001b[0m\u001b[0;34m\u001b[0m\u001b[0;34m\u001b[0m\u001b[0m\n\u001b[0;32m--> 634\u001b[0;31m             \u001b[0mdata\u001b[0m \u001b[0;34m=\u001b[0m \u001b[0mself\u001b[0m\u001b[0;34m.\u001b[0m\u001b[0m_next_data\u001b[0m\u001b[0;34m(\u001b[0m\u001b[0;34m)\u001b[0m\u001b[0;34m\u001b[0m\u001b[0;34m\u001b[0m\u001b[0m\n\u001b[0m\u001b[1;32m    635\u001b[0m             \u001b[0mself\u001b[0m\u001b[0;34m.\u001b[0m\u001b[0m_num_yielded\u001b[0m \u001b[0;34m+=\u001b[0m \u001b[0;36m1\u001b[0m\u001b[0;34m\u001b[0m\u001b[0;34m\u001b[0m\u001b[0m\n\u001b[1;32m    636\u001b[0m             \u001b[0;32mif\u001b[0m \u001b[0mself\u001b[0m\u001b[0;34m.\u001b[0m\u001b[0m_dataset_kind\u001b[0m \u001b[0;34m==\u001b[0m \u001b[0m_DatasetKind\u001b[0m\u001b[0;34m.\u001b[0m\u001b[0mIterable\u001b[0m \u001b[0;32mand\u001b[0m\u001b[0;31m \u001b[0m\u001b[0;31m\\\u001b[0m\u001b[0;34m\u001b[0m\u001b[0;34m\u001b[0m\u001b[0m\n",
      "\u001b[0;32m/usr/local/lib/python3.9/dist-packages/torch/utils/data/dataloader.py\u001b[0m in \u001b[0;36m_next_data\u001b[0;34m(self)\u001b[0m\n\u001b[1;32m    676\u001b[0m     \u001b[0;32mdef\u001b[0m \u001b[0m_next_data\u001b[0m\u001b[0;34m(\u001b[0m\u001b[0mself\u001b[0m\u001b[0;34m)\u001b[0m\u001b[0;34m:\u001b[0m\u001b[0;34m\u001b[0m\u001b[0;34m\u001b[0m\u001b[0m\n\u001b[1;32m    677\u001b[0m         \u001b[0mindex\u001b[0m \u001b[0;34m=\u001b[0m \u001b[0mself\u001b[0m\u001b[0;34m.\u001b[0m\u001b[0m_next_index\u001b[0m\u001b[0;34m(\u001b[0m\u001b[0;34m)\u001b[0m  \u001b[0;31m# may raise StopIteration\u001b[0m\u001b[0;34m\u001b[0m\u001b[0;34m\u001b[0m\u001b[0m\n\u001b[0;32m--> 678\u001b[0;31m         \u001b[0mdata\u001b[0m \u001b[0;34m=\u001b[0m \u001b[0mself\u001b[0m\u001b[0;34m.\u001b[0m\u001b[0m_dataset_fetcher\u001b[0m\u001b[0;34m.\u001b[0m\u001b[0mfetch\u001b[0m\u001b[0;34m(\u001b[0m\u001b[0mindex\u001b[0m\u001b[0;34m)\u001b[0m  \u001b[0;31m# may raise StopIteration\u001b[0m\u001b[0;34m\u001b[0m\u001b[0;34m\u001b[0m\u001b[0m\n\u001b[0m\u001b[1;32m    679\u001b[0m         \u001b[0;32mif\u001b[0m \u001b[0mself\u001b[0m\u001b[0;34m.\u001b[0m\u001b[0m_pin_memory\u001b[0m\u001b[0;34m:\u001b[0m\u001b[0;34m\u001b[0m\u001b[0;34m\u001b[0m\u001b[0m\n\u001b[1;32m    680\u001b[0m             \u001b[0mdata\u001b[0m \u001b[0;34m=\u001b[0m \u001b[0m_utils\u001b[0m\u001b[0;34m.\u001b[0m\u001b[0mpin_memory\u001b[0m\u001b[0;34m.\u001b[0m\u001b[0mpin_memory\u001b[0m\u001b[0;34m(\u001b[0m\u001b[0mdata\u001b[0m\u001b[0;34m,\u001b[0m \u001b[0mself\u001b[0m\u001b[0;34m.\u001b[0m\u001b[0m_pin_memory_device\u001b[0m\u001b[0;34m)\u001b[0m\u001b[0;34m\u001b[0m\u001b[0;34m\u001b[0m\u001b[0m\n",
      "\u001b[0;32m/usr/local/lib/python3.9/dist-packages/torch/utils/data/_utils/fetch.py\u001b[0m in \u001b[0;36mfetch\u001b[0;34m(self, possibly_batched_index)\u001b[0m\n\u001b[1;32m     47\u001b[0m         \u001b[0;32mif\u001b[0m \u001b[0mself\u001b[0m\u001b[0;34m.\u001b[0m\u001b[0mauto_collation\u001b[0m\u001b[0;34m:\u001b[0m\u001b[0;34m\u001b[0m\u001b[0;34m\u001b[0m\u001b[0m\n\u001b[1;32m     48\u001b[0m             \u001b[0;32mif\u001b[0m \u001b[0mhasattr\u001b[0m\u001b[0;34m(\u001b[0m\u001b[0mself\u001b[0m\u001b[0;34m.\u001b[0m\u001b[0mdataset\u001b[0m\u001b[0;34m,\u001b[0m \u001b[0;34m\"__getitems__\"\u001b[0m\u001b[0;34m)\u001b[0m \u001b[0;32mand\u001b[0m \u001b[0mself\u001b[0m\u001b[0;34m.\u001b[0m\u001b[0mdataset\u001b[0m\u001b[0;34m.\u001b[0m\u001b[0m__getitems__\u001b[0m\u001b[0;34m:\u001b[0m\u001b[0;34m\u001b[0m\u001b[0;34m\u001b[0m\u001b[0m\n\u001b[0;32m---> 49\u001b[0;31m                 \u001b[0mdata\u001b[0m \u001b[0;34m=\u001b[0m \u001b[0mself\u001b[0m\u001b[0;34m.\u001b[0m\u001b[0mdataset\u001b[0m\u001b[0;34m.\u001b[0m\u001b[0m__getitems__\u001b[0m\u001b[0;34m(\u001b[0m\u001b[0mpossibly_batched_index\u001b[0m\u001b[0;34m)\u001b[0m\u001b[0;34m\u001b[0m\u001b[0;34m\u001b[0m\u001b[0m\n\u001b[0m\u001b[1;32m     50\u001b[0m             \u001b[0;32melse\u001b[0m\u001b[0;34m:\u001b[0m\u001b[0;34m\u001b[0m\u001b[0;34m\u001b[0m\u001b[0m\n\u001b[1;32m     51\u001b[0m                 \u001b[0mdata\u001b[0m \u001b[0;34m=\u001b[0m \u001b[0;34m[\u001b[0m\u001b[0mself\u001b[0m\u001b[0;34m.\u001b[0m\u001b[0mdataset\u001b[0m\u001b[0;34m[\u001b[0m\u001b[0midx\u001b[0m\u001b[0;34m]\u001b[0m \u001b[0;32mfor\u001b[0m \u001b[0midx\u001b[0m \u001b[0;32min\u001b[0m \u001b[0mpossibly_batched_index\u001b[0m\u001b[0;34m]\u001b[0m\u001b[0;34m\u001b[0m\u001b[0;34m\u001b[0m\u001b[0m\n",
      "\u001b[0;32m/usr/local/lib/python3.9/dist-packages/datasets/arrow_dataset.py\u001b[0m in \u001b[0;36m__getitems__\u001b[0;34m(self, keys)\u001b[0m\n\u001b[1;32m   2711\u001b[0m     \u001b[0;32mdef\u001b[0m \u001b[0m__getitems__\u001b[0m\u001b[0;34m(\u001b[0m\u001b[0mself\u001b[0m\u001b[0;34m,\u001b[0m \u001b[0mkeys\u001b[0m\u001b[0;34m:\u001b[0m \u001b[0mList\u001b[0m\u001b[0;34m)\u001b[0m \u001b[0;34m->\u001b[0m \u001b[0mList\u001b[0m\u001b[0;34m:\u001b[0m\u001b[0;34m\u001b[0m\u001b[0;34m\u001b[0m\u001b[0m\n\u001b[1;32m   2712\u001b[0m         \u001b[0;34m\"\"\"Can be used to get a batch using a list of integers indices.\"\"\"\u001b[0m\u001b[0;34m\u001b[0m\u001b[0;34m\u001b[0m\u001b[0m\n\u001b[0;32m-> 2713\u001b[0;31m         \u001b[0mbatch\u001b[0m \u001b[0;34m=\u001b[0m \u001b[0mself\u001b[0m\u001b[0;34m.\u001b[0m\u001b[0m__getitem__\u001b[0m\u001b[0;34m(\u001b[0m\u001b[0mkeys\u001b[0m\u001b[0;34m)\u001b[0m\u001b[0;34m\u001b[0m\u001b[0;34m\u001b[0m\u001b[0m\n\u001b[0m\u001b[1;32m   2714\u001b[0m         \u001b[0mn_examples\u001b[0m \u001b[0;34m=\u001b[0m \u001b[0mlen\u001b[0m\u001b[0;34m(\u001b[0m\u001b[0mbatch\u001b[0m\u001b[0;34m[\u001b[0m\u001b[0mnext\u001b[0m\u001b[0;34m(\u001b[0m\u001b[0miter\u001b[0m\u001b[0;34m(\u001b[0m\u001b[0mbatch\u001b[0m\u001b[0;34m)\u001b[0m\u001b[0;34m)\u001b[0m\u001b[0;34m]\u001b[0m\u001b[0;34m)\u001b[0m\u001b[0;34m\u001b[0m\u001b[0;34m\u001b[0m\u001b[0m\n\u001b[1;32m   2715\u001b[0m         \u001b[0;32mreturn\u001b[0m \u001b[0;34m[\u001b[0m\u001b[0;34m{\u001b[0m\u001b[0mcol\u001b[0m\u001b[0;34m:\u001b[0m \u001b[0marray\u001b[0m\u001b[0;34m[\u001b[0m\u001b[0mi\u001b[0m\u001b[0;34m]\u001b[0m \u001b[0;32mfor\u001b[0m \u001b[0mcol\u001b[0m\u001b[0;34m,\u001b[0m \u001b[0marray\u001b[0m \u001b[0;32min\u001b[0m \u001b[0mbatch\u001b[0m\u001b[0;34m.\u001b[0m\u001b[0mitems\u001b[0m\u001b[0;34m(\u001b[0m\u001b[0;34m)\u001b[0m\u001b[0;34m}\u001b[0m \u001b[0;32mfor\u001b[0m \u001b[0mi\u001b[0m \u001b[0;32min\u001b[0m \u001b[0mrange\u001b[0m\u001b[0;34m(\u001b[0m\u001b[0mn_examples\u001b[0m\u001b[0;34m)\u001b[0m\u001b[0;34m]\u001b[0m\u001b[0;34m\u001b[0m\u001b[0;34m\u001b[0m\u001b[0m\n",
      "\u001b[0;32m/usr/local/lib/python3.9/dist-packages/datasets/arrow_dataset.py\u001b[0m in \u001b[0;36m__getitem__\u001b[0;34m(self, key)\u001b[0m\n\u001b[1;32m   2707\u001b[0m     \u001b[0;32mdef\u001b[0m \u001b[0m__getitem__\u001b[0m\u001b[0;34m(\u001b[0m\u001b[0mself\u001b[0m\u001b[0;34m,\u001b[0m \u001b[0mkey\u001b[0m\u001b[0;34m)\u001b[0m\u001b[0;34m:\u001b[0m  \u001b[0;31m# noqa: F811\u001b[0m\u001b[0;34m\u001b[0m\u001b[0;34m\u001b[0m\u001b[0m\n\u001b[1;32m   2708\u001b[0m         \u001b[0;34m\"\"\"Can be used to index columns (by string names) or rows (by integer index or iterable of indices or bools).\"\"\"\u001b[0m\u001b[0;34m\u001b[0m\u001b[0;34m\u001b[0m\u001b[0m\n\u001b[0;32m-> 2709\u001b[0;31m         \u001b[0;32mreturn\u001b[0m \u001b[0mself\u001b[0m\u001b[0;34m.\u001b[0m\u001b[0m_getitem\u001b[0m\u001b[0;34m(\u001b[0m\u001b[0mkey\u001b[0m\u001b[0;34m)\u001b[0m\u001b[0;34m\u001b[0m\u001b[0;34m\u001b[0m\u001b[0m\n\u001b[0m\u001b[1;32m   2710\u001b[0m \u001b[0;34m\u001b[0m\u001b[0m\n\u001b[1;32m   2711\u001b[0m     \u001b[0;32mdef\u001b[0m \u001b[0m__getitems__\u001b[0m\u001b[0;34m(\u001b[0m\u001b[0mself\u001b[0m\u001b[0;34m,\u001b[0m \u001b[0mkeys\u001b[0m\u001b[0;34m:\u001b[0m \u001b[0mList\u001b[0m\u001b[0;34m)\u001b[0m \u001b[0;34m->\u001b[0m \u001b[0mList\u001b[0m\u001b[0;34m:\u001b[0m\u001b[0;34m\u001b[0m\u001b[0;34m\u001b[0m\u001b[0m\n",
      "\u001b[0;32m/usr/local/lib/python3.9/dist-packages/datasets/arrow_dataset.py\u001b[0m in \u001b[0;36m_getitem\u001b[0;34m(self, key, **kwargs)\u001b[0m\n\u001b[1;32m   2692\u001b[0m         \u001b[0mformatter\u001b[0m \u001b[0;34m=\u001b[0m \u001b[0mget_formatter\u001b[0m\u001b[0;34m(\u001b[0m\u001b[0mformat_type\u001b[0m\u001b[0;34m,\u001b[0m \u001b[0mfeatures\u001b[0m\u001b[0;34m=\u001b[0m\u001b[0mself\u001b[0m\u001b[0;34m.\u001b[0m\u001b[0m_info\u001b[0m\u001b[0;34m.\u001b[0m\u001b[0mfeatures\u001b[0m\u001b[0;34m,\u001b[0m \u001b[0;34m**\u001b[0m\u001b[0mformat_kwargs\u001b[0m\u001b[0;34m)\u001b[0m\u001b[0;34m\u001b[0m\u001b[0;34m\u001b[0m\u001b[0m\n\u001b[1;32m   2693\u001b[0m         \u001b[0mpa_subtable\u001b[0m \u001b[0;34m=\u001b[0m \u001b[0mquery_table\u001b[0m\u001b[0;34m(\u001b[0m\u001b[0mself\u001b[0m\u001b[0;34m.\u001b[0m\u001b[0m_data\u001b[0m\u001b[0;34m,\u001b[0m \u001b[0mkey\u001b[0m\u001b[0;34m,\u001b[0m \u001b[0mindices\u001b[0m\u001b[0;34m=\u001b[0m\u001b[0mself\u001b[0m\u001b[0;34m.\u001b[0m\u001b[0m_indices\u001b[0m \u001b[0;32mif\u001b[0m \u001b[0mself\u001b[0m\u001b[0;34m.\u001b[0m\u001b[0m_indices\u001b[0m \u001b[0;32mis\u001b[0m \u001b[0;32mnot\u001b[0m \u001b[0;32mNone\u001b[0m \u001b[0;32melse\u001b[0m \u001b[0;32mNone\u001b[0m\u001b[0;34m)\u001b[0m\u001b[0;34m\u001b[0m\u001b[0;34m\u001b[0m\u001b[0m\n\u001b[0;32m-> 2694\u001b[0;31m         formatted_output = format_table(\n\u001b[0m\u001b[1;32m   2695\u001b[0m             \u001b[0mpa_subtable\u001b[0m\u001b[0;34m,\u001b[0m \u001b[0mkey\u001b[0m\u001b[0;34m,\u001b[0m \u001b[0mformatter\u001b[0m\u001b[0;34m=\u001b[0m\u001b[0mformatter\u001b[0m\u001b[0;34m,\u001b[0m \u001b[0mformat_columns\u001b[0m\u001b[0;34m=\u001b[0m\u001b[0mformat_columns\u001b[0m\u001b[0;34m,\u001b[0m \u001b[0moutput_all_columns\u001b[0m\u001b[0;34m=\u001b[0m\u001b[0moutput_all_columns\u001b[0m\u001b[0;34m\u001b[0m\u001b[0;34m\u001b[0m\u001b[0m\n\u001b[1;32m   2696\u001b[0m         )\n",
      "\u001b[0;32m/usr/local/lib/python3.9/dist-packages/datasets/formatting/formatting.py\u001b[0m in \u001b[0;36mformat_table\u001b[0;34m(table, key, formatter, format_columns, output_all_columns)\u001b[0m\n\u001b[1;32m    640\u001b[0m     \u001b[0;32melse\u001b[0m\u001b[0;34m:\u001b[0m\u001b[0;34m\u001b[0m\u001b[0;34m\u001b[0m\u001b[0m\n\u001b[1;32m    641\u001b[0m         \u001b[0mpa_table_to_format\u001b[0m \u001b[0;34m=\u001b[0m \u001b[0mpa_table\u001b[0m\u001b[0;34m.\u001b[0m\u001b[0mdrop\u001b[0m\u001b[0;34m(\u001b[0m\u001b[0mcol\u001b[0m \u001b[0;32mfor\u001b[0m \u001b[0mcol\u001b[0m \u001b[0;32min\u001b[0m \u001b[0mpa_table\u001b[0m\u001b[0;34m.\u001b[0m\u001b[0mcolumn_names\u001b[0m \u001b[0;32mif\u001b[0m \u001b[0mcol\u001b[0m \u001b[0;32mnot\u001b[0m \u001b[0;32min\u001b[0m \u001b[0mformat_columns\u001b[0m\u001b[0;34m)\u001b[0m\u001b[0;34m\u001b[0m\u001b[0;34m\u001b[0m\u001b[0m\n\u001b[0;32m--> 642\u001b[0;31m         \u001b[0mformatted_output\u001b[0m \u001b[0;34m=\u001b[0m \u001b[0mformatter\u001b[0m\u001b[0;34m(\u001b[0m\u001b[0mpa_table_to_format\u001b[0m\u001b[0;34m,\u001b[0m \u001b[0mquery_type\u001b[0m\u001b[0;34m=\u001b[0m\u001b[0mquery_type\u001b[0m\u001b[0;34m)\u001b[0m\u001b[0;34m\u001b[0m\u001b[0;34m\u001b[0m\u001b[0m\n\u001b[0m\u001b[1;32m    643\u001b[0m         \u001b[0;32mif\u001b[0m \u001b[0moutput_all_columns\u001b[0m\u001b[0;34m:\u001b[0m\u001b[0;34m\u001b[0m\u001b[0;34m\u001b[0m\u001b[0m\n\u001b[1;32m    644\u001b[0m             \u001b[0;32mif\u001b[0m \u001b[0misinstance\u001b[0m\u001b[0;34m(\u001b[0m\u001b[0mformatted_output\u001b[0m\u001b[0;34m,\u001b[0m \u001b[0mMutableMapping\u001b[0m\u001b[0;34m)\u001b[0m\u001b[0;34m:\u001b[0m\u001b[0;34m\u001b[0m\u001b[0;34m\u001b[0m\u001b[0m\n",
      "\u001b[0;32m/usr/local/lib/python3.9/dist-packages/datasets/formatting/formatting.py\u001b[0m in \u001b[0;36m__call__\u001b[0;34m(self, pa_table, query_type)\u001b[0m\n\u001b[1;32m    408\u001b[0m             \u001b[0;32mreturn\u001b[0m \u001b[0mself\u001b[0m\u001b[0;34m.\u001b[0m\u001b[0mformat_column\u001b[0m\u001b[0;34m(\u001b[0m\u001b[0mpa_table\u001b[0m\u001b[0;34m)\u001b[0m\u001b[0;34m\u001b[0m\u001b[0;34m\u001b[0m\u001b[0m\n\u001b[1;32m    409\u001b[0m         \u001b[0;32melif\u001b[0m \u001b[0mquery_type\u001b[0m \u001b[0;34m==\u001b[0m \u001b[0;34m\"batch\"\u001b[0m\u001b[0;34m:\u001b[0m\u001b[0;34m\u001b[0m\u001b[0;34m\u001b[0m\u001b[0m\n\u001b[0;32m--> 410\u001b[0;31m             \u001b[0;32mreturn\u001b[0m \u001b[0mself\u001b[0m\u001b[0;34m.\u001b[0m\u001b[0mformat_batch\u001b[0m\u001b[0;34m(\u001b[0m\u001b[0mpa_table\u001b[0m\u001b[0;34m)\u001b[0m\u001b[0;34m\u001b[0m\u001b[0;34m\u001b[0m\u001b[0m\n\u001b[0m\u001b[1;32m    411\u001b[0m \u001b[0;34m\u001b[0m\u001b[0m\n\u001b[1;32m    412\u001b[0m     \u001b[0;32mdef\u001b[0m \u001b[0mformat_row\u001b[0m\u001b[0;34m(\u001b[0m\u001b[0mself\u001b[0m\u001b[0;34m,\u001b[0m \u001b[0mpa_table\u001b[0m\u001b[0;34m:\u001b[0m \u001b[0mpa\u001b[0m\u001b[0;34m.\u001b[0m\u001b[0mTable\u001b[0m\u001b[0;34m)\u001b[0m \u001b[0;34m->\u001b[0m \u001b[0mRowFormat\u001b[0m\u001b[0;34m:\u001b[0m\u001b[0;34m\u001b[0m\u001b[0;34m\u001b[0m\u001b[0m\n",
      "\u001b[0;32m/usr/local/lib/python3.9/dist-packages/datasets/formatting/torch_formatter.py\u001b[0m in \u001b[0;36mformat_batch\u001b[0;34m(self, pa_table)\u001b[0m\n\u001b[1;32m     95\u001b[0m         \u001b[0mbatch\u001b[0m \u001b[0;34m=\u001b[0m \u001b[0mself\u001b[0m\u001b[0;34m.\u001b[0m\u001b[0mrecursive_tensorize\u001b[0m\u001b[0;34m(\u001b[0m\u001b[0mbatch\u001b[0m\u001b[0;34m)\u001b[0m\u001b[0;34m\u001b[0m\u001b[0;34m\u001b[0m\u001b[0m\n\u001b[1;32m     96\u001b[0m         \u001b[0;32mfor\u001b[0m \u001b[0mcolumn_name\u001b[0m \u001b[0;32min\u001b[0m \u001b[0mbatch\u001b[0m\u001b[0;34m:\u001b[0m\u001b[0;34m\u001b[0m\u001b[0;34m\u001b[0m\u001b[0m\n\u001b[0;32m---> 97\u001b[0;31m             \u001b[0mbatch\u001b[0m\u001b[0;34m[\u001b[0m\u001b[0mcolumn_name\u001b[0m\u001b[0;34m]\u001b[0m \u001b[0;34m=\u001b[0m \u001b[0mself\u001b[0m\u001b[0;34m.\u001b[0m\u001b[0m_consolidate\u001b[0m\u001b[0;34m(\u001b[0m\u001b[0mbatch\u001b[0m\u001b[0;34m[\u001b[0m\u001b[0mcolumn_name\u001b[0m\u001b[0;34m]\u001b[0m\u001b[0;34m)\u001b[0m\u001b[0;34m\u001b[0m\u001b[0;34m\u001b[0m\u001b[0m\n\u001b[0m\u001b[1;32m     98\u001b[0m         \u001b[0;32mreturn\u001b[0m \u001b[0mbatch\u001b[0m\u001b[0;34m\u001b[0m\u001b[0;34m\u001b[0m\u001b[0m\n",
      "\u001b[0;32m/usr/local/lib/python3.9/dist-packages/datasets/formatting/torch_formatter.py\u001b[0m in \u001b[0;36m_consolidate\u001b[0;34m(self, column)\u001b[0m\n\u001b[1;32m     37\u001b[0m \u001b[0;34m\u001b[0m\u001b[0m\n\u001b[1;32m     38\u001b[0m     \u001b[0;32mdef\u001b[0m \u001b[0m_consolidate\u001b[0m\u001b[0;34m(\u001b[0m\u001b[0mself\u001b[0m\u001b[0;34m,\u001b[0m \u001b[0mcolumn\u001b[0m\u001b[0;34m)\u001b[0m\u001b[0;34m:\u001b[0m\u001b[0;34m\u001b[0m\u001b[0;34m\u001b[0m\u001b[0m\n\u001b[0;32m---> 39\u001b[0;31m         \u001b[0;32mimport\u001b[0m \u001b[0mtorch\u001b[0m\u001b[0;34m\u001b[0m\u001b[0;34m\u001b[0m\u001b[0m\n\u001b[0m\u001b[1;32m     40\u001b[0m \u001b[0;34m\u001b[0m\u001b[0m\n\u001b[1;32m     41\u001b[0m         \u001b[0;32mif\u001b[0m \u001b[0misinstance\u001b[0m\u001b[0;34m(\u001b[0m\u001b[0mcolumn\u001b[0m\u001b[0;34m,\u001b[0m \u001b[0mlist\u001b[0m\u001b[0;34m)\u001b[0m \u001b[0;32mand\u001b[0m \u001b[0mcolumn\u001b[0m\u001b[0;34m:\u001b[0m\u001b[0;34m\u001b[0m\u001b[0;34m\u001b[0m\u001b[0m\n",
      "\u001b[0;31mKeyboardInterrupt\u001b[0m: "
     ]
    }
   ],
   "source": [
    "losses = []\n",
    "\n",
    "for epoch in range(num_epochs):\n",
    "    train_loss = 0.0\n",
    "    model.train()\n",
    "    for idx, batch in enumerate(train_loader):\n",
    "        images, labels = batch['kanji_image'].to(device), batch['labels'].to(device)\n",
    "        optimizer.zero_grad()\n",
    "        outputs = model(images)\n",
    "        loss = loss_fn(outputs, labels)\n",
    "        losses.append(loss.item())\n",
    "        train_loss += loss.item()\n",
    "        loss.backward()\n",
    "        optimizer.step()\n",
    "        if idx % 100 == 0:\n",
    "            print(f\"Epoch {epoch+1}/{num_epochs}, Step {idx+1}/{len(train_loader)}, Loss: {loss.item()}\")\n",
    "\n",
    "    model.eval()\n",
    "    test_loss = 0.0\n",
    "    with torch.no_grad():\n",
    "        for batch in test_loader:\n",
    "            images, labels = batch['kanji_image'].to(device), batch['labels'].to(device)\n",
    "            outputs = model(images)\n",
    "            loss = loss_fn(outputs, labels)\n",
    "            test_loss += loss.item()\n",
    "        print(f\"Epoch {epoch+1}/{num_epochs}, Train Loss: {train_loss/len(train_loader)}, Val Loss: {test_loss/len(test_loader)}\")"
   ]
  },
  {
   "cell_type": "code",
   "execution_count": 65,
   "metadata": {},
   "outputs": [
    {
     "data": {
      "image/png": "[encoded data removed]",
      "text/plain": [
       "<Figure size 640x480 with 1 Axes>"
      ]
     },
     "metadata": {},
     "output_type": "display_data"
    }
   ],
   "source": [
    "import matplotlib.pyplot as plt\n",
    "\n",
    "plt.plot(losses)\n",
    "plt.show()"
   ]
  },
  {
   "cell_type": "code",
   "execution_count": 61,
   "metadata": {},
   "outputs": [],
   "source": [
    "def predict(model, image):\n",
    "    model.eval()\n",
    "    with torch.no_grad():\n",
    "        image = image.unsqueeze(0).unsqueeze(0).to(device) / 255.0\n",
    "        output = model(image)\n",
    "        return output"
   ]
  },
  {
   "cell_type": "code",
   "execution_count": 66,
   "metadata": {},
   "outputs": [
    {
     "data": {
      "text/plain": [
       "[0.07511428,\n",
       " 0.06466022,\n",
       " 0.061889514,\n",
       " 0.056116693,\n",
       " 0.04428023,\n",
       " 0.036519904,\n",
       " 0.034743555,\n",
       " 0.03282588,\n",
       " 0.031234365,\n",
       " 0.03119858,\n",
       " 0.030523451,\n",
       " 0.027594518,\n",
       " 0.026329597,\n",
       " 0.026250424,\n",
       " 0.025245031,\n",
       " 0.024656028,\n",
       " 0.024383618,\n",
       " 0.023516612,\n",
       " 0.023387259,\n",
       " 0.022799455,\n",
       " 0.020749139,\n",
       " 0.019664114,\n",
       " 0.01960701,\n",
       " 0.019384263,\n",
       " 0.019304773,\n",
       " 0.018858993,\n",
       " 0.017585456,\n",
       " 0.016926209,\n",
       " 0.016667299,\n",
       " 0.016540553,\n",
       " 0.016273307,\n",
       " 0.015898848,\n",
       " 0.015700983,\n",
       " 0.014845137,\n",
       " 0.014770793,\n",
       " 0.014720658,\n",
       " 0.01444665,\n",
       " 0.014048256,\n",
       " 0.013932383,\n",
       " 0.013909401,\n",
       " 0.013859971,\n",
       " 0.013854356,\n",
       " 0.012795721,\n",
       " 0.012346236,\n",
       " 0.012330454,\n",
       " 0.012224214,\n",
       " 0.011899706,\n",
       " 0.011467288,\n",
       " 0.011086742,\n",
       " 0.010979002,\n",
       " 0.010852666,\n",
       " 0.010668982,\n",
       " 0.010631455,\n",
       " 0.010454154,\n",
       " 0.01019984,\n",
       " 0.00982904,\n",
       " 0.0097193895,\n",
       " 0.0096685225,\n",
       " 0.009593713,\n",
       " 0.009163719,\n",
       " 0.008837855,\n",
       " 0.008783895,\n",
       " 0.008391901,\n",
       " 0.008343823,\n",
       " 0.008328512,\n",
       " 0.008302848,\n",
       " 0.00826313,\n",
       " 0.0078476835,\n",
       " 0.0077688205,\n",
       " 0.007695461,\n",
       " 0.0075067827,\n",
       " 0.007483527,\n",
       " 0.007374348,\n",
       " 0.007250412,\n",
       " 0.0070634237,\n",
       " 0.0070607658,\n",
       " 0.006986423,\n",
       " 0.006907534,\n",
       " 0.0068133567,\n",
       " 0.0067990576,\n",
       " 0.00658744,\n",
       " 0.0065659876,\n",
       " 0.0065452834,\n",
       " 0.0065175793,\n",
       " 0.0064668716,\n",
       " 0.006398123,\n",
       " 0.006356037,\n",
       " 0.006324368,\n",
       " 0.006318869,\n",
       " 0.006301166,\n",
       " 0.006248643,\n",
       " 0.0062221857,\n",
       " 0.0061531463,\n",
       " 0.0061096735,\n",
       " 0.0060751378,\n",
       " 0.0059721544,\n",
       " 0.0057714893,\n",
       " 0.005770439,\n",
       " 0.0057358565,\n",
       " 0.005643227,\n",
       " 0.0054587824,\n",
       " 0.0054472024,\n",
       " 0.0053325794,\n",
       " 0.0053313733,\n",
       " 0.0052408273,\n",
       " 0.0052371547,\n",
       " 0.0052138097,\n",
       " 0.0050856145,\n",
       " 0.0050539714,\n",
       " 0.004970363,\n",
       " 0.0049346173,\n",
       " 0.004909718,\n",
       " 0.004873357,\n",
       " 0.0048457934,\n",
       " 0.004812248,\n",
       " 0.0047303913,\n",
       " 0.0046316893,\n",
       " 0.004621121,\n",
       " 0.004498758,\n",
       " 0.004471968,\n",
       " 0.0044428627,\n",
       " 0.0044009862,\n",
       " 0.0043847403,\n",
       " 0.004209945,\n",
       " 0.004200347,\n",
       " 0.004100498,\n",
       " 0.004089563,\n",
       " 0.004053485,\n",
       " 0.0039834147,\n",
       " 0.0039440654,\n",
       " 0.0039322064,\n",
       " 0.0039003005,\n",
       " 0.0038930287,\n",
       " 0.0038239735,\n",
       " 0.0037881252,\n",
       " 0.003770798,\n",
       " 0.0037135512,\n",
       " 0.003704496,\n",
       " 0.003645268,\n",
       " 0.003612963,\n",
       " 0.0036093707,\n",
       " 0.0036083797,\n",
       " 0.0035943587,\n",
       " 0.0035839037,\n",
       " 0.0035757974,\n",
       " 0.0035431767,\n",
       " 0.003534062,\n",
       " 0.003519406,\n",
       " 0.0034515958,\n",
       " 0.003443015,\n",
       " 0.003435589,\n",
       " 0.003388345,\n",
       " 0.0033304177,\n",
       " 0.0032462566,\n",
       " 0.0032169963,\n",
       " 0.0031563009,\n",
       " 0.0031300979,\n",
       " 0.00311702,\n",
       " 0.0031069946,\n",
       " 0.0030972415,\n",
       " 0.0030939467,\n",
       " 0.003037008,\n",
       " 0.0030354606,\n",
       " 0.0029664594,\n",
       " 0.0029570898,\n",
       " 0.002953639,\n",
       " 0.0029497477,\n",
       " 0.0029459286,\n",
       " 0.0028847735,\n",
       " 0.0028692547,\n",
       " 0.0028671492,\n",
       " 0.0028521381,\n",
       " 0.0028352004,\n",
       " 0.0028164552,\n",
       " 0.0028089723,\n",
       " 0.0027983324,\n",
       " 0.0027760207,\n",
       " 0.0027745175,\n",
       " 0.0027390707,\n",
       " 0.0027366595,\n",
       " 0.0027217732,\n",
       " 0.0026942163,\n",
       " 0.002683219,\n",
       " 0.0026750993,\n",
       " 0.002656141,\n",
       " 0.0026507175,\n",
       " 0.0026414203,\n",
       " 0.0026336273,\n",
       " 0.0026042403,\n",
       " 0.0025997828,\n",
       " 0.002569471,\n",
       " 0.0025353427,\n",
       " 0.0024793337,\n",
       " 0.002476479,\n",
       " 0.0024505416,\n",
       " 0.0024157108,\n",
       " 0.0024132102,\n",
       " 0.0023927893,\n",
       " 0.0023488184,\n",
       " 0.002296737,\n",
       " 0.0022918624,\n",
       " 0.0022804642,\n",
       " 0.0022712012,\n",
       " 0.002251213,\n",
       " 0.0022499987,\n",
       " 0.0022454914,\n",
       " 0.0022026594,\n",
       " 0.002193477,\n",
       " 0.002184863,\n",
       " 0.0021814413,\n",
       " 0.0021633839,\n",
       " 0.0021524234,\n",
       " 0.0021508948,\n",
       " 0.0021485824,\n",
       " 0.0021359343,\n",
       " 0.0021195323,\n",
       " 0.0020775502,\n",
       " 0.0020748028,\n",
       " 0.002071619,\n",
       " 0.0020640355,\n",
       " 0.0020486026,\n",
       " 0.0020463236,\n",
       " 0.0020395971,\n",
       " 0.0020139157,\n",
       " 0.0020136118,\n",
       " 0.0019773385,\n",
       " 0.0019732898,\n",
       " 0.001950154,\n",
       " 0.0019474224,\n",
       " 0.0019345068,\n",
       " 0.0019325964,\n",
       " 0.001930939,\n",
       " 0.0019300221,\n",
       " 0.0019273446,\n",
       " 0.0019216449,\n",
       " 0.0019093942,\n",
       " 0.0018946959,\n",
       " 0.0018356111,\n",
       " 0.0018147359,\n",
       " 0.0018147213,\n",
       " 0.0018088071,\n",
       " 0.0018074792,\n",
       " 0.0017990113,\n",
       " 0.0017960174,\n",
       " 0.0017939123,\n",
       " 0.0017914344,\n",
       " 0.0017896054,\n",
       " 0.0017880456,\n",
       " 0.0017759918,\n",
       " 0.0017515409,\n",
       " 0.0017380664,\n",
       " 0.0017349882,\n",
       " 0.0017318132,\n",
       " 0.0017311663,\n",
       " 0.0017174402,\n",
       " 0.0017173707,\n",
       " 0.0017118785,\n",
       " 0.0017115085,\n",
       " 0.0017031182,\n",
       " 0.0016875498,\n",
       " 0.0016677856,\n",
       " 0.0016586034,\n",
       " 0.0016533076,\n",
       " 0.0016500886,\n",
       " 0.0016470545,\n",
       " 0.0016383108,\n",
       " 0.0016113153,\n",
       " 0.0016107868,\n",
       " 0.0015836247,\n",
       " 0.0015719517,\n",
       " 0.0015649297,\n",
       " 0.0015577393,\n",
       " 0.0015572001,\n",
       " 0.0015438235,\n",
       " 0.0015301738,\n",
       " 0.0015247777,\n",
       " 0.0015222187,\n",
       " 0.0015059973,\n",
       " 0.0014904374,\n",
       " 0.0014859586,\n",
       " 0.0014681239,\n",
       " 0.0014614905,\n",
       " 0.0014374467,\n",
       " 0.0014370026,\n",
       " 0.0014306967,\n",
       " 0.001413793,\n",
       " 0.0014109806,\n",
       " 0.0014100119,\n",
       " 0.0014081777,\n",
       " 0.0014040713,\n",
       " 0.001403951,\n",
       " 0.0013985164,\n",
       " 0.0013973601,\n",
       " 0.0013886357,\n",
       " 0.0013862018,\n",
       " 0.0013746271,\n",
       " 0.0013683946,\n",
       " 0.001359413,\n",
       " 0.0013439116,\n",
       " 0.0013329003,\n",
       " 0.001328197,\n",
       " 0.0013237118,\n",
       " 0.0013094597,\n",
       " 0.0012978246,\n",
       " 0.0012967669,\n",
       " 0.0012900241,\n",
       " 0.0012854682,\n",
       " 0.0012703108,\n",
       " 0.0012652816,\n",
       " 0.0012592557,\n",
       " 0.00124392,\n",
       " 0.001238733,\n",
       " 0.0012230008,\n",
       " 0.0012209297,\n",
       " 0.0012129962,\n",
       " 0.0011973253,\n",
       " 0.0011909123,\n",
       " 0.0011844322,\n",
       " 0.0011830222,\n",
       " 0.0011750046,\n",
       " 0.0011592783,\n",
       " 0.0011517912,\n",
       " 0.001120927,\n",
       " 0.0011172363,\n",
       " 0.00111518,\n",
       " 0.0011027919,\n",
       " 0.0010891748,\n",
       " 0.0010647749,\n",
       " 0.0010537951,\n",
       " 0.0010485935,\n",
       " 0.001039838,\n",
       " 0.0010377824,\n",
       " 0.0010181764,\n",
       " 0.0010126372,\n",
       " 0.0009850871,\n",
       " 0.0009828466,\n",
       " 0.0009769077,\n",
       " 0.0009515496,\n",
       " 0.0009449116,\n",
       " 0.0009444255,\n",
       " 0.00092937396,\n",
       " 0.0009244922,\n",
       " 0.0009186433,\n",
       " 0.00089194643,\n",
       " 0.00085285306,\n",
       " 0.0008469485,\n",
       " 0.0008369408,\n",
       " 0.0008326743,\n",
       " 0.0008274028,\n",
       " 0.0008254431,\n",
       " 0.0008233383,\n",
       " 0.0008087049,\n",
       " 0.0008009567,\n",
       " 0.0007981746,\n",
       " 0.0007935457,\n",
       " 0.0007810296,\n",
       " 0.00077776687,\n",
       " 0.0007712635,\n",
       " 0.00076959433,\n",
       " 0.0007435296,\n",
       " 0.00071801123,\n",
       " 0.0007078551,\n",
       " 0.00070398883,\n",
       " 0.00070344505,\n",
       " 0.0006717168,\n",
       " 0.0006677006,\n",
       " 0.00066049624,\n",
       " 0.00064656616,\n",
       " 0.0006301954,\n",
       " 0.00062812545,\n",
       " 0.000624094,\n",
       " 0.0006170695,\n",
       " 0.0006058615,\n",
       " 0.00060267345,\n",
       " 0.00059981964,\n",
       " 0.0005903848,\n",
       " 0.0005843714,\n",
       " 0.0005795714,\n",
       " 0.0005690739,\n",
       " 0.0005592097,\n",
       " 0.00055569573,\n",
       " 0.00054648507,\n",
       " 0.0005319795,\n",
       " 0.000522246,\n",
       " 0.0005205396,\n",
       " 0.000519099,\n",
       " 0.0005097376,\n",
       " 0.00050052954,\n",
       " 0.0004990872,\n",
       " 0.0004923614,\n",
       " 0.0004897892,\n",
       " 0.000477868,\n",
       " 0.00046430618,\n",
       " 0.00045270345,\n",
       " 0.00044549457,\n",
       " 0.0004448472,\n",
       " 0.0004389652,\n",
       " 0.00041618533,\n",
       " 0.0004131292,\n",
       " 0.00041295338,\n",
       " 0.00040279422,\n",
       " 0.0004002271,\n",
       " 0.0003912792,\n",
       " 0.00038306898,\n",
       " 0.0003822646,\n",
       " 0.0003817094,\n",
       " 0.00038136408,\n",
       " 0.00036857804,\n",
       " 0.00036427128,\n",
       " 0.00036339567,\n",
       " 0.00034586727,\n",
       " 0.00033985972,\n",
       " 0.00032974128,\n",
       " 0.00032499895,\n",
       " 0.00031799014,\n",
       " 0.0003118844,\n",
       " 0.00030061492,\n",
       " 0.000295435,\n",
       " 0.00028318807,\n",
       " 0.00028222744,\n",
       " 0.00026294834,\n",
       " 0.0002410213,\n",
       " 0.00021659031,\n",
       " 0.00021005065,\n",
       " 0.00020050896,\n",
       " 0.00019286253,\n",
       " 0.00017495005,\n",
       " 5.9882444e-05,\n",
       " 5.8149802e-05,\n",
       " 5.8022342e-05,\n",
       " 5.785333e-05,\n",
       " 5.7352416e-05,\n",
       " 5.7144094e-05,\n",
       " 5.6134355e-05,\n",
       " 5.606732e-05,\n",
       " 5.569839e-05,\n",
       " 5.5419754e-05,\n",
       " 5.512459e-05,\n",
       " 5.510388e-05]"
      ]
     },
     "execution_count": 66,
     "metadata": {},
     "output_type": "execute_result"
    }
   ],
   "source": [
    "sorted(predict(model, ds_train[267]['kanji_image']).flatten().cpu().numpy())[::-1]"
   ]
  },
  {
   "cell_type": "code",
   "execution_count": 115,
   "metadata": {},
   "outputs": [
    {
     "name": "stdout",
     "output_type": "stream",
     "text": [
      "267\n"
     ]
    }
   ],
   "source": [
    "for i, ex in enumerate(filtered_ds):\n",
    "    if ex['meta']['id'] == 736:\n",
    "        print(i)"
   ]
  },
  {
   "cell_type": "code",
   "execution_count": 42,
   "metadata": {},
   "outputs": [
    {
     "data": {
      "text/plain": [
       "<matplotlib.image.AxesImage at 0x7fb9dafe5580>"
      ]
     },
     "execution_count": 42,
     "metadata": {},
     "output_type": "execute_result"
    },
    {
     "data": {
      "image/png": "[encoded data removed]",
      "text/plain": [
       "<Figure size 640x480 with 1 Axes>"
      ]
     },
     "metadata": {},
     "output_type": "display_data"
    }
   ],
   "source": [
    "import matplotlib.pyplot as plt\n",
    "\n",
    "plt.imshow(ds_train[267]['kanji_image'], cmap='gray')"
   ]
  },
  {
   "cell_type": "code",
   "execution_count": 46,
   "metadata": {},
   "outputs": [
    {
     "name": "stdout",
     "output_type": "stream",
     "text": [
      "F1 Score: 0.0\n",
      "Ground Truth: [102 214]\n",
      "Predictions: []\n",
      "\n",
      "Ground Truth: [101 125 127]\n",
      "Predictions: []\n",
      "\n",
      "Ground Truth: [ 51 235]\n",
      "Predictions: []\n",
      "\n",
      "Ground Truth: [42 43]\n",
      "Predictions: []\n",
      "\n",
      "Ground Truth: [183 377]\n",
      "Predictions: []\n",
      "\n",
      "Ground Truth: [ 62 194]\n",
      "Predictions: []\n",
      "\n",
      "Ground Truth: [122 425]\n",
      "Predictions: []\n",
      "\n",
      "Ground Truth: [16 61 97]\n",
      "Predictions: []\n",
      "\n",
      "Ground Truth: [ 15 413]\n",
      "Predictions: []\n",
      "\n",
      "Ground Truth: [102 393]\n",
      "Predictions: []\n",
      "\n"
     ]
    },
    {
     "name": "stderr",
     "output_type": "stream",
     "text": [
      "/usr/local/lib/python3.9/dist-packages/sklearn/metrics/_classification.py:1609: UndefinedMetricWarning: F-score is ill-defined and being set to 0.0 in labels with no true nor predicted samples. Use `zero_division` parameter to control this behavior.\n",
      "  _warn_prf(average, \"true nor predicted\", \"F-score is\", len(true_sum))\n"
     ]
    }
   ],
   "source": [
    "import numpy as np\n",
    "from sklearn.metrics import f1_score\n",
    "\n",
    "threshold = 0.1\n",
    "\n",
    "model.eval()\n",
    "all_ground_truth = []\n",
    "all_predictions = []\n",
    "\n",
    "with torch.no_grad():\n",
    "    for batch in test_loader:\n",
    "        image, labels = batch['kanji_image'].to(device), batch['labels'].to(device)\n",
    "        outputs = model(image)\n",
    "        bool_outputs = (outputs > threshold).cpu().numpy()\n",
    "        all_predictions.extend(bool_outputs)\n",
    "        \n",
    "        all_ground_truth.extend(labels.cpu().numpy())\n",
    "\n",
    "y_true = np.array(all_ground_truth)\n",
    "y_pred = np.array(all_predictions)\n",
    "\n",
    "# Calculate F1 score\n",
    "f1 = f1_score(y_true, y_pred, average='weighted')\n",
    "print(\"F1 Score:\", f1)\n",
    "\n",
    "for i in range(10):\n",
    "    print(\"Ground Truth:\", np.where(y_true[i] == 1)[0])\n",
    "    print(\"Predictions:\", np.where(y_pred[i] == 1)[0])\n",
    "    print()"
   ]
  }
 ],
 "metadata": {
  "kernelspec": {
   "display_name": "Python 3",
   "language": "python",
   "name": "python3"
  },
  "language_info": {
   "codemirror_mode": {
    "name": "ipython",
    "version": 3
   },
   "file_extension": ".py",
   "mimetype": "text/x-python",
   "name": "python",
   "nbconvert_exporter": "python",
   "pygments_lexer": "ipython3",
   "version": "3.9.16"
  },
  "orig_nbformat": 4
 },
 "nbformat": 4,
 "nbformat_minor": 2
}
