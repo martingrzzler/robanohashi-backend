{
 "cells": [
  {
   "cell_type": "code",
   "execution_count": 10,
   "metadata": {},
   "outputs": [],
   "source": [
    "import requests\n",
    "\n",
    "def get_kanji(id):\n",
    "    url = f\"https://api.robanohashi.org/kanji/{id}\"\n",
    "    response = requests.get(url)\n",
    "    return response.json()"
   ]
  },
  {
   "cell_type": "code",
   "execution_count": 11,
   "metadata": {},
   "outputs": [
    {
     "data": {
      "text/plain": [
       "[{'meaning': 'Inside', 'primary': True},\n",
       " {'meaning': 'Within', 'primary': False}]"
      ]
     },
     "execution_count": 11,
     "metadata": {},
     "output_type": "execute_result"
    }
   ],
   "source": [
    "get_kanji(500)['meanings']"
   ]
  },
  {
   "cell_type": "code",
   "execution_count": 12,
   "metadata": {},
   "outputs": [],
   "source": [
    "from PIL import Image, ImageDraw, ImageFont\n",
    "\n",
    "font = ImageFont.truetype(\"NotoSansJP-Regular.ttf\", 200)\n",
    "outpath = \"kanji\"\n",
    "\n",
    "def kanji_to_image(kanji, output_file, padding=5, final_size=(100, 100)):\n",
    "    size = font.getsize(kanji)\n",
    "    temp_image = Image.new('L', size, color=0)\n",
    "    draw = ImageDraw.Draw(temp_image)\n",
    "    draw.text((0, 0), kanji, font=font, fill=255)\n",
    "\n",
    "    # Calculate the bounding box of the text\n",
    "    bbox = temp_image.getbbox()\n",
    "\n",
    "    # Add padding to the bounding box\n",
    "    padded_bbox = (\n",
    "        max(0, bbox[0] - padding),\n",
    "        max(0, bbox[1] - padding),\n",
    "        min(size[0], bbox[2] + padding),\n",
    "        min(size[1], bbox[3] + padding)\n",
    "    )\n",
    "\n",
    "    # Crop the image to the padded bounding box\n",
    "    cropped_image = temp_image.crop(padded_bbox)\n",
    "\n",
    "    # Create a quadratic grayscale image with a white background\n",
    "    size = max(cropped_image.size)\n",
    "    quadratic_image = Image.new('L', (size, size), color=0)\n",
    "\n",
    "    # Paste the cropped image onto the quadratic image\n",
    "    paste_position = (\n",
    "        (size - cropped_image.size[0] + 1) // 2,\n",
    "        (size - cropped_image.size[1] + 1) // 2\n",
    "    )\n",
    "    quadratic_image.paste(cropped_image, paste_position)\n",
    "\n",
    "    # Resize the quadratic image to the final size\n",
    "    final_image = quadratic_image.resize(final_size, Image.ANTIALIAS)\n",
    "\n",
    "    final_image.save(output_file)\n"
   ]
  },
  {
   "cell_type": "code",
   "execution_count": 13,
   "metadata": {},
   "outputs": [],
   "source": [
    "import os\n",
    "\n",
    "if not os.path.exists(outpath):\n",
    "    os.mkdir(outpath)"
   ]
  },
  {
   "cell_type": "code",
   "execution_count": 89,
   "metadata": {},
   "outputs": [
    {
     "name": "stderr",
     "output_type": "stream",
     "text": [
      "100%|██████████| 2027/2027 [16:33<00:00,  2.04it/s]\n"
     ]
    }
   ],
   "source": [
    "from tqdm import tqdm\n",
    "metadata = []\n",
    "\n",
    "for i in tqdm(range(440, 2467)):\n",
    "    kanji = get_kanji(i)\n",
    "    kanji_to_image(kanji['characters'], f\"{outpath}/{kanji['characters']}.png\")\n",
    "    radicals = []\n",
    "    for radical in kanji['component_subjects']:\n",
    "        radicals.append({\n",
    "            'characters': radical['characters'],\n",
    "            'slug': radical['slug'],\n",
    "            'id': radical['id']\n",
    "        })\n",
    "    meta = {\n",
    "        'id': kanji['id'],\n",
    "        'characters': kanji['characters'],\n",
    "        'meanings': ','.join([m['meaning'] for m in kanji['meanings']]),\n",
    "        'radicals': radicals,\n",
    "    }\n",
    "\n",
    "    metadata.append(meta)"
   ]
  },
  {
   "cell_type": "code",
   "execution_count": 109,
   "metadata": {},
   "outputs": [],
   "source": [
    "# compress tar images\n",
    "import tarfile\n",
    "with tarfile.open('kanji.tar.gz', 'w:gz') as tar:\n",
    "    tar.add(outpath, arcname=os.path.basename(outpath))"
   ]
  },
  {
   "cell_type": "code",
   "execution_count": 91,
   "metadata": {},
   "outputs": [
    {
     "data": {
      "application/vnd.jupyter.widget-view+json": {
       "model_id": "2001d248b82a4406990113be3bcad274",
       "version_major": 2,
       "version_minor": 0
      },
      "text/plain": [
       "Creating json from Arrow format:   0%|          | 0/3 [00:00<?, ?ba/s]"
      ]
     },
     "metadata": {},
     "output_type": "display_data"
    },
    {
     "data": {
      "text/plain": [
       "367801"
      ]
     },
     "execution_count": 91,
     "metadata": {},
     "output_type": "execute_result"
    }
   ],
   "source": [
    "from datasets import Dataset\n",
    "import pandas as pd\n",
    "\n",
    "df = pd.DataFrame(metadata)\n",
    "meta_ds = Dataset.from_pandas(df)\n",
    "meta_ds.to_json('kanji_metadata.jsonl', orient='records', lines=True)\n"
   ]
  },
  {
   "cell_type": "code",
   "execution_count": 114,
   "metadata": {},
   "outputs": [
    {
     "data": {
      "application/vnd.jupyter.widget-view+json": {
       "model_id": "7631995e4af844a08fc602540604a4dd",
       "version_major": 2,
       "version_minor": 0
      },
      "text/plain": [
       "Downloading builder script:   0%|          | 0.00/2.35k [00:00<?, ?B/s]"
      ]
     },
     "metadata": {},
     "output_type": "display_data"
    },
    {
     "name": "stdout",
     "output_type": "stream",
     "text": [
      "Downloading and preparing dataset kanjis2radicals/default to /root/.cache/huggingface/datasets/martingrzzler___kanjis2radicals/default/0.0.0/1f37c689ea24a3e304a3fcc2b5b4c52645add8e13b4eacb8cb26e4978da491a6...\n"
     ]
    },
    {
     "data": {
      "application/vnd.jupyter.widget-view+json": {
       "model_id": "fefa482a1fb74d51961cd4cd1f8abeb9",
       "version_major": 2,
       "version_minor": 0
      },
      "text/plain": [
       "Generating train split: 0 examples [00:00, ? examples/s]"
      ]
     },
     "metadata": {},
     "output_type": "display_data"
    },
    {
     "name": "stdout",
     "output_type": "stream",
     "text": [
      "Dataset kanjis2radicals downloaded and prepared to /root/.cache/huggingface/datasets/martingrzzler___kanjis2radicals/default/0.0.0/1f37c689ea24a3e304a3fcc2b5b4c52645add8e13b4eacb8cb26e4978da491a6. Subsequent calls will reuse this data.\n"
     ]
    },
    {
     "data": {
      "application/vnd.jupyter.widget-view+json": {
       "model_id": "267b2be03f4d44e6b3f3ae91825e39ed",
       "version_major": 2,
       "version_minor": 0
      },
      "text/plain": [
       "  0%|          | 0/1 [00:00<?, ?it/s]"
      ]
     },
     "metadata": {},
     "output_type": "display_data"
    }
   ],
   "source": [
    "from datasets import load_dataset\n",
    "\n",
    "ds = load_dataset('martingrzzler/kanjis2radicals')"
   ]
  },
  {
   "cell_type": "code",
   "execution_count": 31,
   "metadata": {},
   "outputs": [],
   "source": [
    "import requests\n",
    "\n",
    "def get_radical(id):\n",
    "    url = f\"https://api.robanohashi.org/radical/{id}\"\n",
    "    response = requests.get(url)\n",
    "    return response.json()"
   ]
  },
  {
   "cell_type": "code",
   "execution_count": 32,
   "metadata": {},
   "outputs": [],
   "source": [
    "radical = get_radical(200)"
   ]
  },
  {
   "cell_type": "code",
   "execution_count": 33,
   "metadata": {},
   "outputs": [
    {
     "data": {
      "application/vnd.google.colaboratory.intrinsic+json": {
       "type": "string"
      },
      "text/plain": [
       "'乃'"
      ]
     },
     "execution_count": 33,
     "metadata": {},
     "output_type": "execute_result"
    }
   ],
   "source": [
    "radical['characters']"
   ]
  },
  {
   "cell_type": "code",
   "execution_count": 267,
   "metadata": {},
   "outputs": [
    {
     "name": "stdout",
     "output_type": "stream",
     "text": [
      "MPLUS1-Regular.ttf\tradicals     ZenKakuGothicNew-Regular.ttf\n",
      "nohup.out\t\tsample_data\n",
      "NotoSansJP-Regular.ttf\ttest.png\n"
     ]
    }
   ],
   "source": [
    "!ls"
   ]
  },
  {
   "cell_type": "code",
   "execution_count": 273,
   "metadata": {},
   "outputs": [],
   "source": [
    "import random\n",
    "import os\n",
    "from PIL import Image, ImageDraw, ImageFont\n",
    "\n",
    "font = ImageFont.truetype(\"MPLUS1-Regular.ttf\", 200)\n",
    "outpath = \"radicals\""
   ]
  },
  {
   "cell_type": "code",
   "execution_count": 277,
   "metadata": {},
   "outputs": [],
   "source": [
    "!rm -rf radicals"
   ]
  },
  {
   "cell_type": "code",
   "execution_count": 278,
   "metadata": {},
   "outputs": [],
   "source": [
    "if not os.path.exists(outpath):\n",
    "    os.mkdir(outpath)"
   ]
  },
  {
   "cell_type": "code",
   "execution_count": 276,
   "metadata": {},
   "outputs": [],
   "source": [
    "final_size = 100\n",
    "def radical_to_image(radical, output_file, padding=5):\n",
    "    size = font.getsize(radical)\n",
    "    temp_image = Image.new('L', size, color=0)\n",
    "    draw = ImageDraw.Draw(temp_image)\n",
    "    draw.text((0, 0), radical, font=font, fill=255)\n",
    "\n",
    "    # Calculate the bounding box of the text\n",
    "    bbox = temp_image.getbbox()\n",
    "\n",
    "    padded_bbox = (\n",
    "        max(0, bbox[0] - padding),\n",
    "        max(0, bbox[1] - padding),\n",
    "        min(size[0], bbox[2] + padding),\n",
    "        min(size[1], bbox[3] + padding)\n",
    "    )\n",
    "\n",
    "    # Crop the image to the padded bounding box\n",
    "    cropped_image = temp_image.crop(padded_bbox)\n",
    "\n",
    "\n",
    "    randomSize = random.randint(30,final_size-30)\n",
    "    cropped_image = cropped_image.resize((randomSize, randomSize), Image.ANTIALIAS)\n",
    "\n",
    "    quadratic_image = Image.new('L', (final_size, final_size), color=0)\n",
    "\n",
    "    paste_position = (\n",
    "        random.randint(0, final_size - randomSize),\n",
    "        random.randint(0, final_size - randomSize)\n",
    "    )\n",
    "\n",
    "    quadratic_image.paste(cropped_image, paste_position)\n",
    "    quadratic_image.save(output_file)"
   ]
  },
  {
   "cell_type": "code",
   "execution_count": 279,
   "metadata": {},
   "outputs": [
    {
     "name": "stderr",
     "output_type": "stream",
     "text": [
      "100%|██████████| 439/439 [06:51<00:00,  1.07it/s]\n"
     ]
    }
   ],
   "source": [
    "from tqdm import tqdm\n",
    "\n",
    "meta_data = []\n",
    "\n",
    "for i in tqdm(range(1, 440)):\n",
    "    radical = get_radical(i)\n",
    "    meta = {\n",
    "        'id': radical['id'],\n",
    "        'characters': radical['characters'],\n",
    "        'slug': radical['slug']\n",
    "    }\n",
    "\n",
    "    for i in range(40):\n",
    "        radical_to_image(radical['characters'], f\"{outpath}/{radical['characters']}_{i + 1}.png\")\n",
    "        meta_data.append(meta)"
   ]
  },
  {
   "cell_type": "code",
   "execution_count": 280,
   "metadata": {},
   "outputs": [],
   "source": [
    "# compress tar images\n",
    "import tarfile\n",
    "with tarfile.open('radicals.tar.gz', 'w:gz') as tar:\n",
    "    tar.add(outpath, arcname=os.path.basename(outpath))"
   ]
  },
  {
   "cell_type": "code",
   "execution_count": 283,
   "metadata": {},
   "outputs": [
    {
     "data": {
      "application/vnd.jupyter.widget-view+json": {
       "model_id": "3af149fd382e4ff680c5c68175bb0559",
       "version_major": 2,
       "version_minor": 0
      },
      "text/plain": [
       "Creating json from Arrow format:   0%|          | 0/18 [00:00<?, ?ba/s]"
      ]
     },
     "metadata": {},
     "output_type": "display_data"
    },
    {
     "data": {
      "text/plain": [
       "852680"
      ]
     },
     "execution_count": 283,
     "metadata": {},
     "output_type": "execute_result"
    }
   ],
   "source": [
    "from datasets import Dataset\n",
    "import pandas as pd\n",
    "\n",
    "df = pd.DataFrame(meta_data)\n",
    "meta_ds = Dataset.from_pandas(df)\n",
    "meta_ds.to_json('radicals_metadata.jsonl', orient='records', lines=True)"
   ]
  },
  {
   "cell_type": "code",
   "execution_count": 286,
   "metadata": {},
   "outputs": [
    {
     "data": {
      "application/vnd.jupyter.widget-view+json": {
       "model_id": "48111c2b3e724fa594fc5f3f0f41831e",
       "version_major": 2,
       "version_minor": 0
      },
      "text/plain": [
       "Downloading builder script:   0%|          | 0.00/1.95k [00:00<?, ?B/s]"
      ]
     },
     "metadata": {},
     "output_type": "display_data"
    },
    {
     "name": "stdout",
     "output_type": "stream",
     "text": [
      "Downloading and preparing dataset radicals/default to /root/.cache/huggingface/datasets/martingrzzler___radicals/default/0.0.0/a789cd83e703618e8d8c908cf014dc4277ea3063f3e09bf1fd46e6f6e53a5b8b...\n"
     ]
    },
    {
     "data": {
      "application/vnd.jupyter.widget-view+json": {
       "model_id": "a16e0d912e804f7da2a69e474028e3ba",
       "version_major": 2,
       "version_minor": 0
      },
      "text/plain": [
       "Generating train split: 0 examples [00:00, ? examples/s]"
      ]
     },
     "metadata": {},
     "output_type": "display_data"
    },
    {
     "name": "stdout",
     "output_type": "stream",
     "text": [
      "Dataset radicals downloaded and prepared to /root/.cache/huggingface/datasets/martingrzzler___radicals/default/0.0.0/a789cd83e703618e8d8c908cf014dc4277ea3063f3e09bf1fd46e6f6e53a5b8b. Subsequent calls will reuse this data.\n"
     ]
    },
    {
     "data": {
      "application/vnd.jupyter.widget-view+json": {
       "model_id": "0e46a4cafcef4877bef9c32fe8241a5b",
       "version_major": 2,
       "version_minor": 0
      },
      "text/plain": [
       "  0%|          | 0/1 [00:00<?, ?it/s]"
      ]
     },
     "metadata": {},
     "output_type": "display_data"
    }
   ],
   "source": [
    "from datasets import load_dataset\n",
    "\n",
    "ds = load_dataset('martingrzzler/radicals')"
   ]
  },
  {
   "cell_type": "code",
   "execution_count": 301,
   "metadata": {},
   "outputs": [
    {
     "data": {
      "image/png": "[encoded data removed]",
      "text/plain": [
       "<PIL.PngImagePlugin.PngImageFile image mode=L size=100x100 at 0x7FEDE63CCC10>"
      ]
     },
     "execution_count": 301,
     "metadata": {},
     "output_type": "execute_result"
    }
   ],
   "source": [
    "ds['train'][10001]['radical_image']"
   ]
  }
 ],
 "metadata": {
  "kernelspec": {
   "display_name": "Python 3",
   "language": "python",
   "name": "python3"
  },
  "language_info": {
   "codemirror_mode": {
    "name": "ipython",
    "version": 3
   },
   "file_extension": ".py",
   "mimetype": "text/x-python",
   "name": "python",
   "nbconvert_exporter": "python",
   "pygments_lexer": "ipython3",
   "version": "3.9.16"
  },
  "orig_nbformat": 4
 },
 "nbformat": 4,
 "nbformat_minor": 2
}
