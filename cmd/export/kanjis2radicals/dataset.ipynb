{
 "cells": [
  {
   "cell_type": "code",
   "execution_count": 1,
   "metadata": {},
   "outputs": [],
   "source": [
    "import requests\n",
    "\n",
    "def get_kanji(id):\n",
    "    url = f\"https://api.robanohashi.org/kanji/{id}\"\n",
    "    response = requests.get(url)\n",
    "    return response.json()"
   ]
  },
  {
   "cell_type": "code",
   "execution_count": 53,
   "metadata": {},
   "outputs": [
    {
     "data": {
      "text/plain": [
       "[{'meaning': 'Inside', 'primary': True},\n",
       " {'meaning': 'Within', 'primary': False}]"
      ]
     },
     "execution_count": 53,
     "metadata": {},
     "output_type": "execute_result"
    }
   ],
   "source": [
    "get_kanji(500)['meanings']"
   ]
  },
  {
   "cell_type": "code",
   "execution_count": 82,
   "metadata": {},
   "outputs": [],
   "source": [
    "from PIL import Image, ImageDraw, ImageFont\n",
    "\n",
    "font = ImageFont.truetype(\"NotoSansJP-Regular.ttf\", 200)\n",
    "outpath = \"kanji\"\n",
    "\n",
    "def kanji_to_image(kanji, output_file, padding=5, final_size=(100, 100)):\n",
    "    size = font.getsize(kanji)\n",
    "    temp_image = Image.new('L', size, color=0)\n",
    "    draw = ImageDraw.Draw(temp_image)\n",
    "    draw.text((0, 0), kanji, font=font, fill=255)\n",
    "\n",
    "    # Calculate the bounding box of the text\n",
    "    bbox = temp_image.getbbox()\n",
    "\n",
    "    # Add padding to the bounding box\n",
    "    padded_bbox = (\n",
    "        max(0, bbox[0] - padding),\n",
    "        max(0, bbox[1] - padding),\n",
    "        min(size[0], bbox[2] + padding),\n",
    "        min(size[1], bbox[3] + padding)\n",
    "    )\n",
    "\n",
    "    # Crop the image to the padded bounding box\n",
    "    cropped_image = temp_image.crop(padded_bbox)\n",
    "\n",
    "    # Create a quadratic grayscale image with a white background\n",
    "    size = max(cropped_image.size)\n",
    "    quadratic_image = Image.new('L', (size, size), color=0)\n",
    "\n",
    "    # Paste the cropped image onto the quadratic image\n",
    "    paste_position = (\n",
    "        (size - cropped_image.size[0] + 1) // 2,\n",
    "        (size - cropped_image.size[1] + 1) // 2\n",
    "    )\n",
    "    quadratic_image.paste(cropped_image, paste_position)\n",
    "\n",
    "    # Resize the quadratic image to the final size\n",
    "    final_image = quadratic_image.resize(final_size, Image.ANTIALIAS)\n",
    "\n",
    "    final_image.save(output_file)\n"
   ]
  },
  {
   "cell_type": "code",
   "execution_count": 84,
   "metadata": {},
   "outputs": [],
   "source": [
    "import os\n",
    "\n",
    "if not os.path.exists(outpath):\n",
    "    os.mkdir(outpath)"
   ]
  },
  {
   "cell_type": "code",
   "execution_count": 89,
   "metadata": {},
   "outputs": [
    {
     "name": "stderr",
     "output_type": "stream",
     "text": [
      "100%|██████████| 2027/2027 [16:33<00:00,  2.04it/s]\n"
     ]
    }
   ],
   "source": [
    "from tqdm import tqdm\n",
    "metadata = []\n",
    "\n",
    "for i in tqdm(range(440, 2467)):\n",
    "    kanji = get_kanji(i)\n",
    "    kanji_to_image(kanji['characters'], f\"{outpath}/{kanji['characters']}.png\")\n",
    "    radicals = []\n",
    "    for radical in kanji['component_subjects']:\n",
    "        radicals.append({\n",
    "            'characters': radical['characters'],\n",
    "            'slug': radical['slug'],\n",
    "            'id': radical['id']\n",
    "        })\n",
    "    meta = {\n",
    "        'id': kanji['id'],\n",
    "        'characters': kanji['characters'],\n",
    "        'meanings': ','.join([m['meaning'] for m in kanji['meanings']]),\n",
    "        'radicals': radicals,\n",
    "    }\n",
    "\n",
    "    metadata.append(meta)"
   ]
  },
  {
   "cell_type": "code",
   "execution_count": 109,
   "metadata": {},
   "outputs": [],
   "source": [
    "# compress tar images\n",
    "import tarfile\n",
    "with tarfile.open('kanji.tar.gz', 'w:gz') as tar:\n",
    "    tar.add(outpath, arcname=os.path.basename(outpath))"
   ]
  },
  {
   "cell_type": "code",
   "execution_count": 91,
   "metadata": {},
   "outputs": [
    {
     "data": {
      "application/vnd.jupyter.widget-view+json": {
       "model_id": "2001d248b82a4406990113be3bcad274",
       "version_major": 2,
       "version_minor": 0
      },
      "text/plain": [
       "Creating json from Arrow format:   0%|          | 0/3 [00:00<?, ?ba/s]"
      ]
     },
     "metadata": {},
     "output_type": "display_data"
    },
    {
     "data": {
      "text/plain": [
       "367801"
      ]
     },
     "execution_count": 91,
     "metadata": {},
     "output_type": "execute_result"
    }
   ],
   "source": [
    "from datasets import Dataset\n",
    "import pandas as pd\n",
    "\n",
    "df = pd.DataFrame(metadata)\n",
    "meta_ds = Dataset.from_pandas(df)\n",
    "meta_ds.to_json('kanji_metadata.jsonl', orient='records', lines=True)\n"
   ]
  },
  {
   "cell_type": "code",
   "execution_count": 114,
   "metadata": {},
   "outputs": [
    {
     "data": {
      "application/vnd.jupyter.widget-view+json": {
       "model_id": "7631995e4af844a08fc602540604a4dd",
       "version_major": 2,
       "version_minor": 0
      },
      "text/plain": [
       "Downloading builder script:   0%|          | 0.00/2.35k [00:00<?, ?B/s]"
      ]
     },
     "metadata": {},
     "output_type": "display_data"
    },
    {
     "name": "stdout",
     "output_type": "stream",
     "text": [
      "Downloading and preparing dataset kanjis2radicals/default to /root/.cache/huggingface/datasets/martingrzzler___kanjis2radicals/default/0.0.0/1f37c689ea24a3e304a3fcc2b5b4c52645add8e13b4eacb8cb26e4978da491a6...\n"
     ]
    },
    {
     "data": {
      "application/vnd.jupyter.widget-view+json": {
       "model_id": "fefa482a1fb74d51961cd4cd1f8abeb9",
       "version_major": 2,
       "version_minor": 0
      },
      "text/plain": [
       "Generating train split: 0 examples [00:00, ? examples/s]"
      ]
     },
     "metadata": {},
     "output_type": "display_data"
    },
    {
     "name": "stdout",
     "output_type": "stream",
     "text": [
      "Dataset kanjis2radicals downloaded and prepared to /root/.cache/huggingface/datasets/martingrzzler___kanjis2radicals/default/0.0.0/1f37c689ea24a3e304a3fcc2b5b4c52645add8e13b4eacb8cb26e4978da491a6. Subsequent calls will reuse this data.\n"
     ]
    },
    {
     "data": {
      "application/vnd.jupyter.widget-view+json": {
       "model_id": "267b2be03f4d44e6b3f3ae91825e39ed",
       "version_major": 2,
       "version_minor": 0
      },
      "text/plain": [
       "  0%|          | 0/1 [00:00<?, ?it/s]"
      ]
     },
     "metadata": {},
     "output_type": "display_data"
    }
   ],
   "source": [
    "from datasets import load_dataset\n",
    "\n",
    "ds = load_dataset('martingrzzler/kanjis2radicals')"
   ]
  }
 ],
 "metadata": {
  "kernelspec": {
   "display_name": "Python 3",
   "language": "python",
   "name": "python3"
  },
  "language_info": {
   "codemirror_mode": {
    "name": "ipython",
    "version": 3
   },
   "file_extension": ".py",
   "mimetype": "text/x-python",
   "name": "python",
   "nbconvert_exporter": "python",
   "pygments_lexer": "ipython3",
   "version": "3.9.16"
  },
  "orig_nbformat": 4
 },
 "nbformat": 4,
 "nbformat_minor": 2
}
